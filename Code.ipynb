{
  "nbformat": 4,
  "nbformat_minor": 0,
  "metadata": {
    "colab": {
      "name": "Code.ipynb",
      "provenance": [],
      "collapsed_sections": [
        "8BJnYW_KS51D"
      ],
      "machine_shape": "hm"
    },
    "kernelspec": {
      "name": "python3",
      "display_name": "Python 3"
    }
  },
  "cells": [
    {
      "cell_type": "markdown",
      "metadata": {
        "id": "UWnO3ypRsIxr",
        "colab_type": "text"
      },
      "source": [
        "# Python"
      ]
    },
    {
      "cell_type": "code",
      "metadata": {
        "id": "ZrdlrurisODI",
        "colab_type": "code",
        "outputId": "4295a8b8-79fc-4962-b4ab-85988b98e2c5",
        "colab": {
          "base_uri": "https://localhost:8080/",
          "height": 87
        }
      },
      "source": [
        "# variable assignment\n",
        "\n",
        "a = 5\n",
        "b = a\n",
        "print(a)\n",
        "print(b)\n",
        "\n",
        "a = 6\n",
        "print(a)\n",
        "\n",
        "all, at, once = 5,10,15\n",
        "print(all,at,once)"
      ],
      "execution_count": 0,
      "outputs": [
        {
          "output_type": "stream",
          "text": [
            "5\n",
            "5\n",
            "6\n",
            "5 10 15\n"
          ],
          "name": "stdout"
        }
      ]
    },
    {
      "cell_type": "code",
      "metadata": {
        "id": "LwKnydCOGaAC",
        "colab_type": "code",
        "colab": {}
      },
      "source": [
        "# CAPITAL_SNAKE_CASE : for constants\n",
        "# UpperCamleCase : for methods, classes\n",
        "# __private__ : this is private variable , which isnt supposed to be touched"
      ],
      "execution_count": 0,
      "outputs": []
    },
    {
      "cell_type": "code",
      "metadata": {
        "id": "VHGfU_blGqXq",
        "colab_type": "code",
        "outputId": "6e3bb2ac-7f0d-4dbc-c581-61e6bf0248ac",
        "colab": {
          "base_uri": "https://localhost:8080/",
          "height": 69
        }
      },
      "source": [
        "# dynamic typing\n",
        "\n",
        "awesome = 5\n",
        "print(awesome)\n",
        "\n",
        "awesome = 'Five'\n",
        "print(awesome)\n",
        "\n",
        "awesome = True\n",
        "print(awesome)"
      ],
      "execution_count": 0,
      "outputs": [
        {
          "output_type": "stream",
          "text": [
            "5\n",
            "Five\n",
            "True\n"
          ],
          "name": "stdout"
        }
      ]
    },
    {
      "cell_type": "code",
      "metadata": {
        "id": "ZsSZiLkgHVik",
        "colab_type": "code",
        "outputId": "f944744e-49d9-4352-8181-a86bd02fb845",
        "colab": {
          "base_uri": "https://localhost:8080/",
          "height": 52
        }
      },
      "source": [
        "a = 5\n",
        "print(a)\n",
        "\n",
        "awesome = str(a)\n",
        "print(awesome)"
      ],
      "execution_count": 0,
      "outputs": [
        {
          "output_type": "stream",
          "text": [
            "5\n",
            "5\n"
          ],
          "name": "stdout"
        }
      ]
    },
    {
      "cell_type": "code",
      "metadata": {
        "id": "PuwGipsiHxFP",
        "colab_type": "code",
        "outputId": "223ceebb-c107-4123-d988-1d9128033c13",
        "colab": {
          "base_uri": "https://localhost:8080/",
          "height": 52
        }
      },
      "source": [
        "# string concatination\n",
        "\n",
        "s = 'a' + 'b' + 'c'\n",
        "print(s)\n",
        "\n",
        "s = 'pooja'\n",
        "s += 'lokesh'\n",
        "print(s)"
      ],
      "execution_count": 0,
      "outputs": [
        {
          "output_type": "stream",
          "text": [
            "abc\n",
            "poojalokesh\n"
          ],
          "name": "stdout"
        }
      ]
    },
    {
      "cell_type": "code",
      "metadata": {
        "id": "5jQtHHZtH6yZ",
        "colab_type": "code",
        "outputId": "a27f8e7b-32ea-4daf-d10d-98f34d0fa56a",
        "colab": {
          "base_uri": "https://localhost:8080/",
          "height": 201
        }
      },
      "source": [
        "# intreger type and string type cant be concatinated\n",
        "\n",
        "s = 8 + 'a'\n",
        "print(s)"
      ],
      "execution_count": 0,
      "outputs": [
        {
          "output_type": "error",
          "ename": "TypeError",
          "evalue": "ignored",
          "traceback": [
            "\u001b[0;31m---------------------------------------------------------------------------\u001b[0m",
            "\u001b[0;31mTypeError\u001b[0m                                 Traceback (most recent call last)",
            "\u001b[0;32m<ipython-input-6-5f3e1238e66f>\u001b[0m in \u001b[0;36m<module>\u001b[0;34m()\u001b[0m\n\u001b[1;32m      1\u001b[0m \u001b[0;34m\u001b[0m\u001b[0m\n\u001b[0;32m----> 2\u001b[0;31m \u001b[0ms\u001b[0m \u001b[0;34m=\u001b[0m \u001b[0;36m8\u001b[0m \u001b[0;34m+\u001b[0m \u001b[0;34m'a'\u001b[0m\u001b[0;34m\u001b[0m\u001b[0;34m\u001b[0m\u001b[0m\n\u001b[0m\u001b[1;32m      3\u001b[0m \u001b[0mprint\u001b[0m\u001b[0;34m(\u001b[0m\u001b[0ms\u001b[0m\u001b[0;34m)\u001b[0m\u001b[0;34m\u001b[0m\u001b[0;34m\u001b[0m\u001b[0m\n",
            "\u001b[0;31mTypeError\u001b[0m: unsupported operand type(s) for +: 'int' and 'str'"
          ]
        }
      ]
    },
    {
      "cell_type": "code",
      "metadata": {
        "id": "UL8vq_EFIG-5",
        "colab_type": "code",
        "outputId": "52b0a0b7-f44d-4d8a-b91f-4ce1a50b256c",
        "colab": {
          "base_uri": "https://localhost:8080/",
          "height": 69
        }
      },
      "source": [
        "# is vs. ==\n",
        "\n",
        "a = [1,2,3]\n",
        "b = [1,2,3]\n",
        "print(a == b)\n",
        "print(a is b)\n",
        "\n",
        "c = b \n",
        "print(b is c)\n",
        "\n",
        "# 'is' is truthy only when two variable reference to the same memory location"
      ],
      "execution_count": 0,
      "outputs": [
        {
          "output_type": "stream",
          "text": [
            "True\n",
            "False\n",
            "True\n"
          ],
          "name": "stdout"
        }
      ]
    },
    {
      "cell_type": "code",
      "metadata": {
        "id": "ygSqBcUTJwP8",
        "colab_type": "code",
        "colab": {}
      },
      "source": [
        "# while loops : we have to specify the false condition for it to exit the loop\n",
        "# for loops : easy to set up when compared to "
      ],
      "execution_count": 0,
      "outputs": []
    },
    {
      "cell_type": "markdown",
      "metadata": {
        "id": "ZWjZgVKsNTER",
        "colab_type": "text"
      },
      "source": [
        "LIST DATA STRUCTURES AND METHODS "
      ]
    },
    {
      "cell_type": "code",
      "metadata": {
        "id": "QmdF2et9LqrN",
        "colab_type": "code",
        "outputId": "fb1f395b-fe10-4427-e5e6-0a55636327fb",
        "colab": {
          "base_uri": "https://localhost:8080/",
          "height": 69
        }
      },
      "source": [
        "yay = [2,3,4]\n",
        "\n",
        "# append\n",
        "value = input(print(\"enter the value to be appended\"))\n",
        "yay.append(int(value))\n",
        "print(yay)\n",
        "\n"
      ],
      "execution_count": 0,
      "outputs": [
        {
          "output_type": "stream",
          "text": [
            "enter the value to be appended\n",
            "5\n",
            "[2, 3, 4, 5]\n"
          ],
          "name": "stdout"
        }
      ]
    },
    {
      "cell_type": "code",
      "metadata": {
        "id": "htw0lMYxNwfr",
        "colab_type": "code",
        "outputId": "45bd6b76-8c11-4706-f299-a7c90fb8d55e",
        "colab": {
          "base_uri": "https://localhost:8080/",
          "height": 52
        }
      },
      "source": [
        "# extend\n",
        "# Add to the end of a list all values passed to extend\n",
        "\n",
        "first_list = [1, 2, 3, 4]\n",
        "\n",
        "# first_list.append(5, 6, 7, 8) # does not work!\n",
        "first_list.append([5, 6, 7, 8])\n",
        "print(first_list) \n",
        "correct_list = [1, 2, 3, 4]\n",
        "\n",
        "correct_list.extend([5, 6, 7, 8])\n",
        "print(correct_list)\n"
      ],
      "execution_count": 0,
      "outputs": [
        {
          "output_type": "stream",
          "text": [
            "[1, 2, 3, 4, [5, 6, 7, 8]]\n",
            "[1, 2, 3, 4, 5, 6, 7, 8]\n"
          ],
          "name": "stdout"
        }
      ]
    },
    {
      "cell_type": "code",
      "metadata": {
        "id": "PDIpnxREPRYT",
        "colab_type": "code",
        "outputId": "ef4e5a35-08be-46ed-ddfe-099acb6ca54d",
        "colab": {
          "base_uri": "https://localhost:8080/",
          "height": 52
        }
      },
      "source": [
        "# insert\n",
        "# Insert an item at a given position.\n",
        "\n",
        "first_list = [1, 2, 3, 4]\n",
        "first_list. insert(2, 'Hi!' )\n",
        "print (first_list)\n",
        "first_list. insert ( -1, 'The end! ' )\n",
        "print(first_list)\n"
      ],
      "execution_count": 0,
      "outputs": [
        {
          "output_type": "stream",
          "text": [
            "[1, 2, 'Hi!', 3, 4]\n",
            "[1, 2, 'Hi!', 3, 'The end! ', 4]\n"
          ],
          "name": "stdout"
        }
      ]
    },
    {
      "cell_type": "code",
      "metadata": {
        "id": "SGfYbyfxS-Wh",
        "colab_type": "code",
        "outputId": "9a37e2d6-1a2d-4029-f8af-159754ab6531",
        "colab": {
          "base_uri": "https://localhost:8080/",
          "height": 35
        }
      },
      "source": [
        "# clear\n",
        "# Remove all items from the list.\n",
        "\n",
        "first_list = [1, 2, 3, 4]\n",
        "first_list.clear( )\n",
        "print(first_list) \n"
      ],
      "execution_count": 0,
      "outputs": [
        {
          "output_type": "stream",
          "text": [
            "[]\n"
          ],
          "name": "stdout"
        }
      ]
    },
    {
      "cell_type": "code",
      "metadata": {
        "id": "EmifCpmmTUHo",
        "colab_type": "code",
        "outputId": "0631ff46-742b-44d1-a3f0-dba4671b33a4",
        "colab": {
          "base_uri": "https://localhost:8080/",
          "height": 69
        }
      },
      "source": [
        "# pop\n",
        "# accessing the last element of the list\n",
        "\n",
        "first_list = [1, 2, 3, 4]\n",
        "print(first_list.pop())\n",
        "print(first_list.pop(1))\n",
        "print(first_list)"
      ],
      "execution_count": 0,
      "outputs": [
        {
          "output_type": "stream",
          "text": [
            "4\n",
            "2\n",
            "[1, 3]\n"
          ],
          "name": "stdout"
        }
      ]
    },
    {
      "cell_type": "code",
      "metadata": {
        "id": "S7-NR2A9UELz",
        "colab_type": "code",
        "outputId": "b688118b-ea7d-4085-9a36-c76937b06c6b",
        "colab": {
          "base_uri": "https://localhost:8080/",
          "height": 69
        }
      },
      "source": [
        "# remove\n",
        "# removing a specific element of the list\n",
        "\n",
        "l = [1,2,4,3,4,4]\n",
        "maximum = max(l)\n",
        "print(maximum)\n",
        "l.remove(maximum)\n",
        "print(l)\n",
        "l.remove(2)\n",
        "print(l)"
      ],
      "execution_count": 0,
      "outputs": [
        {
          "output_type": "stream",
          "text": [
            "4\n",
            "[1, 2, 3, 4, 4]\n",
            "[1, 3, 4, 4]\n"
          ],
          "name": "stdout"
        }
      ]
    },
    {
      "cell_type": "code",
      "metadata": {
        "id": "-5T-HB3oUfk0",
        "colab_type": "code",
        "outputId": "ac0b2476-570f-4f37-bf0a-545362f730f9",
        "colab": {
          "base_uri": "https://localhost:8080/",
          "height": 52
        }
      },
      "source": [
        "# index\n",
        "# returns the index of a specific element\n",
        "\n",
        "l = [1,2,3,4,5,4,4,4]\n",
        "print(l.index(2))\n",
        "\n",
        "print(l.index(4,4,7))"
      ],
      "execution_count": 0,
      "outputs": [
        {
          "output_type": "stream",
          "text": [
            "1\n",
            "5\n"
          ],
          "name": "stdout"
        }
      ]
    },
    {
      "cell_type": "code",
      "metadata": {
        "id": "6mIGExkgYRUS",
        "colab_type": "code",
        "outputId": "e801f31a-3cb3-46f3-a529-b5e38e981d43",
        "colab": {
          "base_uri": "https://localhost:8080/",
          "height": 35
        }
      },
      "source": [
        "# reverse \n",
        "# reversing a list\n",
        "\n",
        "l = [1,2,3,4,5,4,4,4]\n",
        "l.reverse()\n",
        "print(l)"
      ],
      "execution_count": 0,
      "outputs": [
        {
          "output_type": "stream",
          "text": [
            "[4, 4, 4, 5, 4, 3, 2, 1]\n"
          ],
          "name": "stdout"
        }
      ]
    },
    {
      "cell_type": "code",
      "metadata": {
        "id": "2Sl6icpUY6kr",
        "colab_type": "code",
        "outputId": "04a7ccc6-92a9-49b9-b1fe-e72edc9b7475",
        "colab": {
          "base_uri": "https://localhost:8080/",
          "height": 35
        }
      },
      "source": [
        "# sort\n",
        "# sorting the whole list\n",
        "\n",
        "l = [1,2,3,4,5,4,4,4]\n",
        "l.sort()\n",
        "print(l)"
      ],
      "execution_count": 0,
      "outputs": [
        {
          "output_type": "stream",
          "text": [
            "[1, 2, 3, 4, 4, 4, 4, 5]\n"
          ],
          "name": "stdout"
        }
      ]
    },
    {
      "cell_type": "code",
      "metadata": {
        "id": "Fq7py3m5ZRqC",
        "colab_type": "code",
        "outputId": "91654b77-81b0-42df-8659-f17e36a1b40e",
        "colab": {
          "base_uri": "https://localhost:8080/",
          "height": 35
        }
      },
      "source": [
        "# join keyword\n",
        "\n",
        "l = ['coding' , 'is', 'fun']\n",
        "\" \".join(l)"
      ],
      "execution_count": 0,
      "outputs": [
        {
          "output_type": "execute_result",
          "data": {
            "text/plain": [
              "'coding is fun'"
            ]
          },
          "metadata": {
            "tags": []
          },
          "execution_count": 31
        }
      ]
    },
    {
      "cell_type": "code",
      "metadata": {
        "id": "p2LNhYB-Zvhi",
        "colab_type": "code",
        "outputId": "2e411847-8f9e-4120-98e0-bce7a2638344",
        "colab": {
          "base_uri": "https://localhost:8080/",
          "height": 69
        }
      },
      "source": [
        "# slicing \n",
        "# start, end, step\n",
        "\n",
        "l = [1,2,3,4,5,6]\n",
        "print(l[1:])\n",
        "print(l[:3])\n",
        "print(l[1:6:2])"
      ],
      "execution_count": 0,
      "outputs": [
        {
          "output_type": "stream",
          "text": [
            "[2, 3, 4, 5, 6]\n",
            "[1, 2, 3]\n",
            "[2, 4, 6]\n"
          ],
          "name": "stdout"
        }
      ]
    },
    {
      "cell_type": "code",
      "metadata": {
        "id": "KeFL0SknbB8S",
        "colab_type": "code",
        "outputId": "71f77825-e274-4f81-fe4f-f1f76d9a7bbf",
        "colab": {
          "base_uri": "https://localhost:8080/",
          "height": 69
        }
      },
      "source": [
        "# list comprehension\n",
        "\n",
        "l = [num * 2 for num in range(4)]\n",
        "print(l)\n",
        "\n",
        "numbers = [1,2,3,4,5,6]\n",
        "even = [num for num in numbers if num % 2 == 0]\n",
        "odd = [num for num in numbers if num % 2 != 0]\n",
        "print(even)\n",
        "print(odd)"
      ],
      "execution_count": 0,
      "outputs": [
        {
          "output_type": "stream",
          "text": [
            "[0, 2, 4, 6]\n",
            "[2, 4, 6]\n",
            "[1, 3, 5]\n"
          ],
          "name": "stdout"
        }
      ]
    },
    {
      "cell_type": "markdown",
      "metadata": {
        "id": "D8MxXpb-dzmk",
        "colab_type": "text"
      },
      "source": [
        "Dictionaries and methods used"
      ]
    },
    {
      "cell_type": "code",
      "metadata": {
        "id": "IBF2axkgd8ru",
        "colab_type": "code",
        "outputId": "e77f11d6-f8ab-4083-a0eb-c3965610a16f",
        "colab": {
          "base_uri": "https://localhost:8080/",
          "height": 87
        }
      },
      "source": [
        "# declaring a dictionary\n",
        "d = {\n",
        "    'name' : 'pooja',\n",
        "    'rollno' : 2,\n",
        "    'love' : 'rohit'\n",
        "}\n",
        "print(d)\n",
        "\n",
        "demo = dict(name = 'rohit', love = 'pooja') # key cant be an attribute\n",
        "print(demo)\n",
        "\n",
        "print(d['name'])\n",
        "print(demo['name'])"
      ],
      "execution_count": 0,
      "outputs": [
        {
          "output_type": "stream",
          "text": [
            "{'name': 'pooja', 'rollno': 2, 'love': 'rohit'}\n",
            "{'name': 'rohit', 'love': 'pooja'}\n",
            "pooja\n",
            "rohit\n"
          ],
          "name": "stdout"
        }
      ]
    },
    {
      "cell_type": "code",
      "metadata": {
        "id": "pbdf3-vXKnFK",
        "colab_type": "code",
        "outputId": "c92769db-039a-4e87-813d-7956aa4f39b8",
        "colab": {
          "base_uri": "https://localhost:8080/",
          "height": 87
        }
      },
      "source": [
        "# accessing values from the dictionary\n",
        "# using .values()\n",
        "\n",
        "d = {\n",
        "    'name' : 'pooja',\n",
        "    'rollno' : 2,\n",
        "    'love' : 'rohit'\n",
        "}\n",
        "\n",
        "print(d.values())\n",
        "\n",
        "for v in d.values():\n",
        "  print(v)"
      ],
      "execution_count": 0,
      "outputs": [
        {
          "output_type": "stream",
          "text": [
            "dict_values(['pooja', 2, 'rohit'])\n",
            "pooja\n",
            "2\n",
            "rohit\n"
          ],
          "name": "stdout"
        }
      ]
    },
    {
      "cell_type": "code",
      "metadata": {
        "id": "zs18pHcmLX4F",
        "colab_type": "code",
        "outputId": "a7f5e301-c2e4-4769-de5e-1958ed795090",
        "colab": {
          "base_uri": "https://localhost:8080/",
          "height": 87
        }
      },
      "source": [
        "# accessing the keys from the dictionary\n",
        "# using .keys()\n",
        "\n",
        "d = {\n",
        "    'name' : 'pooja',\n",
        "    'rollno' : 2,\n",
        "    'love' : 'rohit'\n",
        "}\n",
        "\n",
        "print(d.keys())\n",
        "\n",
        "for k in d.keys():\n",
        "  print(k)"
      ],
      "execution_count": 0,
      "outputs": [
        {
          "output_type": "stream",
          "text": [
            "dict_keys(['name', 'rollno', 'love'])\n",
            "name\n",
            "rollno\n",
            "love\n"
          ],
          "name": "stdout"
        }
      ]
    },
    {
      "cell_type": "code",
      "metadata": {
        "id": "XEaNpudFLyxm",
        "colab_type": "code",
        "outputId": "c90bb0e3-d655-4c42-abe4-bc0ff1105ca3",
        "colab": {
          "base_uri": "https://localhost:8080/",
          "height": 69
        }
      },
      "source": [
        "# accessing both key value pair\n",
        "# using .items()\n",
        "\n",
        "d = {\n",
        "    'name' : 'pooja',\n",
        "    'rollno' : 2,\n",
        "    'love' : 'rohit'\n",
        "}\n",
        "\n",
        "for key,value in d.items():\n",
        "  print('{} : {}'.format(key,value))"
      ],
      "execution_count": 0,
      "outputs": [
        {
          "output_type": "stream",
          "text": [
            "name : pooja\n",
            "rollno : 2\n",
            "love : rohit\n"
          ],
          "name": "stdout"
        }
      ]
    },
    {
      "cell_type": "code",
      "metadata": {
        "id": "CThARODCMH6L",
        "colab_type": "code",
        "outputId": "256c8f22-a1f7-4682-b12f-92248ed280fe",
        "colab": {
          "base_uri": "https://localhost:8080/",
          "height": 87
        }
      },
      "source": [
        "#checking if the key or value is present in the dictionary\n",
        "# using in keyword\n",
        "\n",
        "d = {\n",
        "    'name' : 'pooja',\n",
        "    'rollno' : 2,\n",
        "    'love' : 'rohit'\n",
        "}\n",
        "\n",
        "print('name' in d)\n",
        "print('babe' in d)\n",
        "\n",
        "print('pooja' in d.values())\n",
        "print('mum' in d.values())"
      ],
      "execution_count": 0,
      "outputs": [
        {
          "output_type": "stream",
          "text": [
            "True\n",
            "False\n",
            "True\n",
            "False\n"
          ],
          "name": "stdout"
        }
      ]
    },
    {
      "cell_type": "code",
      "metadata": {
        "id": "bvOoz3YGNDcN",
        "colab_type": "code",
        "outputId": "aef3f8b4-4ac5-422e-ac47-0c522b6ea5c4",
        "colab": {
          "base_uri": "https://localhost:8080/",
          "height": 35
        }
      },
      "source": [
        "# clearing all the content of the dictionary\n",
        "\n",
        "di = {\n",
        "    'name' : 'pooja',\n",
        "    'rollno' : 2,\n",
        "    'love' : 'rohit'\n",
        "}\n",
        "\n",
        "di.clear()\n",
        "print(di)"
      ],
      "execution_count": 0,
      "outputs": [
        {
          "output_type": "stream",
          "text": [
            "{}\n"
          ],
          "name": "stdout"
        }
      ]
    },
    {
      "cell_type": "code",
      "metadata": {
        "id": "okjA2PldNPXn",
        "colab_type": "code",
        "outputId": "dcdfd3be-9937-41e0-a250-5e3439f1e23e",
        "colab": {
          "base_uri": "https://localhost:8080/",
          "height": 52
        }
      },
      "source": [
        "# making a copy of the dictionary\n",
        "\n",
        "d = {\n",
        "    'name' : 'pooja',\n",
        "    'rollno' : 2,\n",
        "    'love' : 'rohit'\n",
        "}\n",
        "\n",
        "c = d.copy()\n",
        "print(c)\n",
        "\n",
        "print(c is d)"
      ],
      "execution_count": 0,
      "outputs": [
        {
          "output_type": "stream",
          "text": [
            "{'name': 'pooja', 'rollno': 2, 'love': 'rohit'}\n",
            "False\n"
          ],
          "name": "stdout"
        }
      ]
    },
    {
      "cell_type": "code",
      "metadata": {
        "id": "A8aeY_lJNYur",
        "colab_type": "code",
        "outputId": "5ff4c1e5-97c2-4ba3-8fd8-1f9f64302456",
        "colab": {
          "base_uri": "https://localhost:8080/",
          "height": 52
        }
      },
      "source": [
        "# creating dictionaries with comma separated values, using fromkeys\n",
        "\n",
        "d = {}.fromkeys(['name','phone','place'], 'unknown')\n",
        "print(d)\n",
        "\n",
        "d.fromkeys(['love'],'rohit')\n",
        "print(d)"
      ],
      "execution_count": 0,
      "outputs": [
        {
          "output_type": "stream",
          "text": [
            "{'name': 'unknown', 'phone': 'unknown', 'place': 'unknown'}\n",
            "{'name': 'unknown', 'phone': 'unknown', 'place': 'unknown'}\n"
          ],
          "name": "stdout"
        }
      ]
    },
    {
      "cell_type": "code",
      "metadata": {
        "id": "pjLX6iL1Qm1g",
        "colab_type": "code",
        "outputId": "c61aa623-2656-4165-fd99-a46c0b484ac8",
        "colab": {
          "base_uri": "https://localhost:8080/",
          "height": 52
        }
      },
      "source": [
        "# accessing the values using get\n",
        "\n",
        "d = {\n",
        "    'name' : 'pooja',\n",
        "    'rollno' : 2,\n",
        "    'love' : 'rohit'\n",
        "}\n",
        "\n",
        "print(d.get('name'))\n",
        "print(d.get('yay'))"
      ],
      "execution_count": 0,
      "outputs": [
        {
          "output_type": "stream",
          "text": [
            "pooja\n",
            "None\n"
          ],
          "name": "stdout"
        }
      ]
    },
    {
      "cell_type": "code",
      "metadata": {
        "id": "CtUOlA58RCY3",
        "colab_type": "code",
        "outputId": "58da5c42-dfb0-455e-a741-c38780c83194",
        "colab": {
          "base_uri": "https://localhost:8080/",
          "height": 218
        }
      },
      "source": [
        "# popping items\n",
        "\n",
        "d = {\n",
        "    'name' : 'pooja',\n",
        "    'rollno' : 2,\n",
        "    'love' : 'rohit'\n",
        "}\n",
        "\n",
        "print(d.popitem())\n",
        "print(d.popitem('name')) # takes no attributes"
      ],
      "execution_count": 0,
      "outputs": [
        {
          "output_type": "stream",
          "text": [
            "('love', 'rohit')\n"
          ],
          "name": "stdout"
        },
        {
          "output_type": "error",
          "ename": "TypeError",
          "evalue": "ignored",
          "traceback": [
            "\u001b[0;31m---------------------------------------------------------------------------\u001b[0m",
            "\u001b[0;31mTypeError\u001b[0m                                 Traceback (most recent call last)",
            "\u001b[0;32m<ipython-input-24-d7c54db4c1c1>\u001b[0m in \u001b[0;36m<module>\u001b[0;34m()\u001b[0m\n\u001b[1;32m      7\u001b[0m \u001b[0;34m\u001b[0m\u001b[0m\n\u001b[1;32m      8\u001b[0m \u001b[0mprint\u001b[0m\u001b[0;34m(\u001b[0m\u001b[0md\u001b[0m\u001b[0;34m.\u001b[0m\u001b[0mpopitem\u001b[0m\u001b[0;34m(\u001b[0m\u001b[0;34m)\u001b[0m\u001b[0;34m)\u001b[0m\u001b[0;34m\u001b[0m\u001b[0;34m\u001b[0m\u001b[0m\n\u001b[0;32m----> 9\u001b[0;31m \u001b[0mprint\u001b[0m\u001b[0;34m(\u001b[0m\u001b[0md\u001b[0m\u001b[0;34m.\u001b[0m\u001b[0mpopitem\u001b[0m\u001b[0;34m(\u001b[0m\u001b[0;34m'name'\u001b[0m\u001b[0;34m)\u001b[0m\u001b[0;34m)\u001b[0m\u001b[0;34m\u001b[0m\u001b[0;34m\u001b[0m\u001b[0m\n\u001b[0m",
            "\u001b[0;31mTypeError\u001b[0m: popitem() takes no arguments (1 given)"
          ]
        }
      ]
    },
    {
      "cell_type": "code",
      "metadata": {
        "id": "CX5cD1eNRYdc",
        "colab_type": "code",
        "outputId": "cb637483-6374-476f-ff1e-395c1bfa1185",
        "colab": {
          "base_uri": "https://localhost:8080/",
          "height": 52
        }
      },
      "source": [
        "# using update to override the values\n",
        "\n",
        "d = {\n",
        "    'name' : 'pooja',\n",
        "    'rollno' : 2,\n",
        "    'love' : 'rohit'\n",
        "}\n",
        "\n",
        "demo = dict(name = 'rohit', love = 'pooja') \n",
        "\n",
        "demo['name'] = 'yay'\n",
        "print(demo)\n",
        "\n",
        "demo.update(d)\n",
        "print(demo)"
      ],
      "execution_count": 0,
      "outputs": [
        {
          "output_type": "stream",
          "text": [
            "{'name': 'yay', 'love': 'pooja'}\n",
            "{'name': 'pooja', 'love': 'rohit', 'rollno': 2}\n"
          ],
          "name": "stdout"
        }
      ]
    },
    {
      "cell_type": "code",
      "metadata": {
        "id": "qctngsiCSJcD",
        "colab_type": "code",
        "outputId": "5eda3b0c-730f-4cd3-ed81-37c355d33139",
        "colab": {
          "base_uri": "https://localhost:8080/",
          "height": 35
        }
      },
      "source": [
        "# conditional logic and comprehention\n",
        "\n",
        "d = {'first' : 1, 'second' : 2, 'third' : 3}\n",
        "squares = {key : value **2 for key,value in d.items()} \n",
        "print(squares)"
      ],
      "execution_count": 0,
      "outputs": [
        {
          "output_type": "stream",
          "text": [
            "{'first': 1, 'second': 4, 'third': 9}\n"
          ],
          "name": "stdout"
        }
      ]
    },
    {
      "cell_type": "markdown",
      "metadata": {
        "id": "qJs_cWpcTGbv",
        "colab_type": "text"
      },
      "source": [
        "TUPLES "
      ]
    },
    {
      "cell_type": "code",
      "metadata": {
        "id": "q4nWWGMXTJxi",
        "colab_type": "code",
        "colab": {}
      },
      "source": [
        "# tuples are immutable\n",
        "# access is faster when compared to list\n",
        "# safer code"
      ],
      "execution_count": 0,
      "outputs": []
    },
    {
      "cell_type": "code",
      "metadata": {
        "id": "NLy8ZUGkTaxN",
        "colab_type": "code",
        "outputId": "ea169669-a984-422e-dfc6-f58ec4c064ad",
        "colab": {
          "base_uri": "https://localhost:8080/",
          "height": 52
        }
      },
      "source": [
        "# creating and accessing\n",
        "\n",
        "t = (1,2,3,4,4,5,5,5,6)\n",
        "\n",
        "print(t[2])\n",
        "print(t.count(5))"
      ],
      "execution_count": 0,
      "outputs": [
        {
          "output_type": "stream",
          "text": [
            "3\n",
            "3\n"
          ],
          "name": "stdout"
        }
      ]
    },
    {
      "cell_type": "markdown",
      "metadata": {
        "id": "rjIx5yKgUMmK",
        "colab_type": "text"
      },
      "source": [
        "SETS AND ITS METHODS"
      ]
    },
    {
      "cell_type": "code",
      "metadata": {
        "id": "uW_I68VbUQr_",
        "colab_type": "code",
        "outputId": "96ef0514-c27f-4963-87ff-a309d2aa0dc4",
        "colab": {
          "base_uri": "https://localhost:8080/",
          "height": 69
        }
      },
      "source": [
        "# defining a set and accessing\n",
        "\n",
        "l = [1,2,3,3,4,4,4,5,5,5,6]\n",
        "s = set(l)\n",
        "print(s)\n",
        "\n",
        "s = {1,2,3,4,4,4}\n",
        "print(s)\n",
        "\n",
        "2 in s\n",
        "# s[2] doesnt work"
      ],
      "execution_count": 0,
      "outputs": [
        {
          "output_type": "stream",
          "text": [
            "{1, 2, 3, 4, 5, 6}\n",
            "{1, 2, 3, 4}\n"
          ],
          "name": "stdout"
        },
        {
          "output_type": "execute_result",
          "data": {
            "text/plain": [
              "True"
            ]
          },
          "metadata": {
            "tags": []
          },
          "execution_count": 35
        }
      ]
    },
    {
      "cell_type": "code",
      "metadata": {
        "id": "9ld69RCKU8mi",
        "colab_type": "code",
        "outputId": "d9c3f526-8f54-4d4d-f19e-15c309c82b07",
        "colab": {
          "base_uri": "https://localhost:8080/",
          "height": 87
        }
      },
      "source": [
        "# adding\n",
        "s = {1,2,3,4,4,4}\n",
        "s.add(5)\n",
        "print(s)\n",
        "\n",
        "# removing\n",
        "s.remove(5)\n",
        "print(s)\n",
        "\n",
        "# copy\n",
        "d = s.copy() \n",
        "print(d)\n",
        "\n",
        "# clearing\n",
        "d.clear()\n",
        "print(d)"
      ],
      "execution_count": 0,
      "outputs": [
        {
          "output_type": "stream",
          "text": [
            "{1, 2, 3, 4, 5}\n",
            "{1, 2, 3, 4}\n",
            "{1, 2, 3, 4}\n",
            "set()\n"
          ],
          "name": "stdout"
        }
      ]
    },
    {
      "cell_type": "code",
      "metadata": {
        "id": "xm8moXZzWm33",
        "colab_type": "code",
        "outputId": "8459b02a-7794-49ba-8aae-eadfb6c188ab",
        "colab": {
          "base_uri": "https://localhost:8080/",
          "height": 52
        }
      },
      "source": [
        "# union and common from the two sets\n",
        "\n",
        "s1 = {1,2,3,4,5,6}\n",
        "s2 = {7,8,9,10,11}\n",
        "\n",
        "print(s1 | s2) # union of tow sets\n",
        "print(s1 & s2) # a set of elements which are in both sets"
      ],
      "execution_count": 0,
      "outputs": [
        {
          "output_type": "stream",
          "text": [
            "{1, 2, 3, 4, 5, 6, 7, 8, 9, 10, 11}\n",
            "set()\n"
          ],
          "name": "stdout"
        }
      ]
    },
    {
      "cell_type": "markdown",
      "metadata": {
        "id": "3blrPwexYESM",
        "colab_type": "text"
      },
      "source": [
        "Parameters vs Arguments\n",
        ". A parameter is a variable in a method definition\n",
        ". When a method is called, the arguments are the data you pass into the method's parameters.\n",
        ". Parameter is variable in the declaration of function.\n",
        "Argument is the actual value of this variable that gets\n",
        "passed to function.\n"
      ]
    },
    {
      "cell_type": "markdown",
      "metadata": {
        "id": "kZPJ83R7ZHbN",
        "colab_type": "text"
      },
      "source": [
        "using defalut parameters in funtions allows us to make less mistakes in accepting invalid arguments"
      ]
    },
    {
      "cell_type": "markdown",
      "metadata": {
        "id": "oZUNZbjEZR4A",
        "colab_type": "text"
      },
      "source": [
        "Keyword arguments are a little more flexible when compared to default parameters"
      ]
    },
    {
      "cell_type": "markdown",
      "metadata": {
        "id": "9g4e69PJaSkC",
        "colab_type": "text"
      },
      "source": [
        "*args and **kwargs :  used for a list of elemets and dictionary respectively"
      ]
    },
    {
      "cell_type": "markdown",
      "metadata": {
        "id": "smEfQG00cRQy",
        "colab_type": "text"
      },
      "source": [
        "Parameter ordering\n",
        "\n",
        "1) parameters\n",
        "2) *args\n",
        "3) default parameters\n",
        "4) **kwargs"
      ]
    },
    {
      "cell_type": "code",
      "metadata": {
        "id": "BD79qOBJce7l",
        "colab_type": "code",
        "outputId": "b53ac878-498e-4c16-fa9d-2c2dd088f8ed",
        "colab": {
          "base_uri": "https://localhost:8080/",
          "height": 104
        }
      },
      "source": [
        "# lambda function\n",
        "\n",
        "numbers = [1,2,3,4]\n",
        "squares = lambda num: num*num\n",
        "print(squares.__name__)\n",
        "i = 0\n",
        "while i < len(numbers):\n",
        "  print(squares(numbers[i]))\n",
        "  i += 1"
      ],
      "execution_count": 0,
      "outputs": [
        {
          "output_type": "stream",
          "text": [
            "<lambda>\n",
            "1\n",
            "4\n",
            "9\n",
            "16\n"
          ],
          "name": "stdout"
        }
      ]
    },
    {
      "cell_type": "code",
      "metadata": {
        "id": "G8z5b_GEebP5",
        "colab_type": "code",
        "outputId": "4394ed60-288c-4639-e22b-9ad53d799a56",
        "colab": {
          "base_uri": "https://localhost:8080/",
          "height": 35
        }
      },
      "source": [
        "# map function\n",
        "# accepts a lambda and an iterable object\n",
        "# this can later be convereted into a required data structure\n",
        "\n",
        "numbers = [1,2,3,4,5]\n",
        "\n",
        "doubles = set(map(lambda num: num*2,numbers))\n",
        "print(doubles)"
      ],
      "execution_count": 0,
      "outputs": [
        {
          "output_type": "stream",
          "text": [
            "{2, 4, 6, 8, 10}\n"
          ],
          "name": "stdout"
        }
      ]
    },
    {
      "cell_type": "code",
      "metadata": {
        "id": "1_8CWni1g-EI",
        "colab_type": "code",
        "outputId": "0a22fd4b-2b3f-4227-9a69-c952a384df09",
        "colab": {
          "base_uri": "https://localhost:8080/",
          "height": 35
        }
      },
      "source": [
        "# filter function\n",
        "# accepts a lambda functio and an iterable object\n",
        "# the element which satisfies the lambda condition are filtered out of the iterable object and put into another iterable form\n",
        "\n",
        "l =[1,2,3,4,5,6]\n",
        "\n",
        "even = list(filter(lambda num: num % 2 == 0,l))\n",
        "print(even)"
      ],
      "execution_count": 0,
      "outputs": [
        {
          "output_type": "stream",
          "text": [
            "[2, 4, 6]\n"
          ],
          "name": "stdout"
        }
      ]
    },
    {
      "cell_type": "code",
      "metadata": {
        "id": "0CcrmNDSihTJ",
        "colab_type": "code",
        "outputId": "e814addd-edbb-4435-a5de-3b14eeffd47d",
        "colab": {
          "base_uri": "https://localhost:8080/",
          "height": 35
        }
      },
      "source": [
        "# generator expression\n",
        "\n",
        "l = [1,2,3,4,5]\n",
        "double = (num*2 for num in l)\n",
        "# a generator expression takes less space when compared to list comprehension"
      ],
      "execution_count": 0,
      "outputs": [
        {
          "output_type": "execute_result",
          "data": {
            "text/plain": [
              "<generator object <genexpr> at 0x7fa756a95af0>"
            ]
          },
          "metadata": {
            "tags": []
          },
          "execution_count": 48
        }
      ]
    },
    {
      "cell_type": "code",
      "metadata": {
        "id": "KwHR9Df3i9s4",
        "colab_type": "code",
        "outputId": "5499d23d-23d2-4ae9-f587-8b510c21540f",
        "colab": {
          "base_uri": "https://localhost:8080/",
          "height": 243
        }
      },
      "source": [
        "l = [1,3,5,7,2,9,8]\n",
        "\n",
        "# sorting the list\n",
        "print(sorted(l))\n",
        "\n",
        "# max of list\n",
        "print(max(l))\n",
        "\n",
        "# min of list\n",
        "print(min(l))\n",
        "\n",
        "# accessing in reverse\n",
        "for num in reversed(l):\n",
        "  print(num)\n",
        "\n",
        "# finding the sum of elements\n",
        "print(sum(l,5)) # first pass the iterable object and then pass the starting value : 35 + 5\n",
        "\n",
        "print(round(10.2))\n",
        "print(round(1.2354678197,3))"
      ],
      "execution_count": 0,
      "outputs": [
        {
          "output_type": "stream",
          "text": [
            "[1, 2, 3, 5, 7, 8, 9]\n",
            "9\n",
            "1\n",
            "8\n",
            "9\n",
            "2\n",
            "7\n",
            "5\n",
            "3\n",
            "1\n",
            "40\n",
            "10\n",
            "1.235\n"
          ],
          "name": "stdout"
        }
      ]
    },
    {
      "cell_type": "code",
      "metadata": {
        "id": "4I_yTbXolz5f",
        "colab_type": "code",
        "outputId": "7e67e41e-a38e-4bb5-ed69-a7c3b5b1101a",
        "colab": {
          "base_uri": "https://localhost:8080/",
          "height": 35
        }
      },
      "source": [
        "# zip function\n",
        "\n",
        "l1 = [1,2,3,4,5]\n",
        "l2 = [1,2,3,4,5]\n",
        "\n",
        "demo = zip(l1,l2)\n",
        "#print(list(demo))\n",
        "#print(set(demo))\n",
        "\n",
        "print(list(zip(*demo))) #unzipping"
      ],
      "execution_count": 0,
      "outputs": [
        {
          "output_type": "stream",
          "text": [
            "[(1, 2, 3, 4, 5), (1, 2, 3, 4, 5)]\n"
          ],
          "name": "stdout"
        }
      ]
    },
    {
      "cell_type": "markdown",
      "metadata": {
        "id": "q5rVvUBtm-EJ",
        "colab_type": "text"
      },
      "source": [
        "ERROR HANDLING"
      ]
    },
    {
      "cell_type": "code",
      "metadata": {
        "id": "aqTfhZMJm_z9",
        "colab_type": "code",
        "colab": {}
      },
      "source": [
        "TYPES OF ERRORS :\n",
        " SyntaxError : if there is any error in Syntax\n",
        " TypeError : when an operation of function is applied to wrong type\n",
        " IndexError : accessing an element with invalid index\n",
        " ValueError : if any bult in functions has an approprite type but the wwrong value\n",
        " KeyError : when we try to access the item which doesnt exist in the dictionary\n",
        " AttributeError : when an object doesnt have any attribute of that type"
      ],
      "execution_count": 0,
      "outputs": []
    },
    {
      "cell_type": "code",
      "metadata": {
        "id": "2pa_07ueptlM",
        "colab_type": "code",
        "outputId": "d73d6a11-b3f6-42bb-df7f-efc33733dcbe",
        "colab": {
          "base_uri": "https://localhost:8080/",
          "height": 322
        }
      },
      "source": [
        "# raising our own error\n",
        "\n",
        "def demo(num):\n",
        "  if num != int :\n",
        "    raise TypeError('its not int format')\n",
        "  print(num)\n",
        "\n",
        "demo('pooja')"
      ],
      "execution_count": 0,
      "outputs": [
        {
          "output_type": "error",
          "ename": "TypeError",
          "evalue": "ignored",
          "traceback": [
            "\u001b[0;31m---------------------------------------------------------------------------\u001b[0m",
            "\u001b[0;31mTypeError\u001b[0m                                 Traceback (most recent call last)",
            "\u001b[0;32m<ipython-input-64-66af2eb78ca9>\u001b[0m in \u001b[0;36m<module>\u001b[0;34m()\u001b[0m\n\u001b[1;32m      5\u001b[0m   \u001b[0mprint\u001b[0m\u001b[0;34m(\u001b[0m\u001b[0mnum\u001b[0m\u001b[0;34m)\u001b[0m\u001b[0;34m\u001b[0m\u001b[0;34m\u001b[0m\u001b[0m\n\u001b[1;32m      6\u001b[0m \u001b[0;34m\u001b[0m\u001b[0m\n\u001b[0;32m----> 7\u001b[0;31m \u001b[0mdemo\u001b[0m\u001b[0;34m(\u001b[0m\u001b[0;34m'pooja'\u001b[0m\u001b[0;34m)\u001b[0m\u001b[0;34m\u001b[0m\u001b[0;34m\u001b[0m\u001b[0m\n\u001b[0m",
            "\u001b[0;32m<ipython-input-64-66af2eb78ca9>\u001b[0m in \u001b[0;36mdemo\u001b[0;34m(num)\u001b[0m\n\u001b[1;32m      2\u001b[0m \u001b[0;32mdef\u001b[0m \u001b[0mdemo\u001b[0m\u001b[0;34m(\u001b[0m\u001b[0mnum\u001b[0m\u001b[0;34m)\u001b[0m\u001b[0;34m:\u001b[0m\u001b[0;34m\u001b[0m\u001b[0;34m\u001b[0m\u001b[0m\n\u001b[1;32m      3\u001b[0m   \u001b[0;32mif\u001b[0m \u001b[0mnum\u001b[0m \u001b[0;34m!=\u001b[0m \u001b[0mint\u001b[0m \u001b[0;34m:\u001b[0m\u001b[0;34m\u001b[0m\u001b[0;34m\u001b[0m\u001b[0m\n\u001b[0;32m----> 4\u001b[0;31m     \u001b[0;32mraise\u001b[0m \u001b[0mTypeError\u001b[0m\u001b[0;34m(\u001b[0m\u001b[0;34m'its not int format'\u001b[0m\u001b[0;34m)\u001b[0m\u001b[0;34m\u001b[0m\u001b[0;34m\u001b[0m\u001b[0m\n\u001b[0m\u001b[1;32m      5\u001b[0m   \u001b[0mprint\u001b[0m\u001b[0;34m(\u001b[0m\u001b[0mnum\u001b[0m\u001b[0;34m)\u001b[0m\u001b[0;34m\u001b[0m\u001b[0;34m\u001b[0m\u001b[0m\n\u001b[1;32m      6\u001b[0m \u001b[0;34m\u001b[0m\u001b[0m\n",
            "\u001b[0;31mTypeError\u001b[0m: its not int format"
          ]
        }
      ]
    },
    {
      "cell_type": "code",
      "metadata": {
        "id": "PI5A-Zw-uI_x",
        "colab_type": "code",
        "outputId": "97accd28-3c92-4d7b-d3c1-2d6b88161e37",
        "colab": {
          "base_uri": "https://localhost:8080/",
          "height": 69
        }
      },
      "source": [
        "# handling the errors\n",
        "\n",
        "# try\n",
        "# except\n",
        "# else\n",
        "# finally\n",
        "\n",
        "try:\n",
        "  num = int(input('enter a number'))\n",
        "except:\n",
        "  print('its not a number')\n",
        "else:\n",
        "  print(num)\n",
        "finally:\n",
        "  print('this runs anyway')\n",
        "  "
      ],
      "execution_count": 0,
      "outputs": [
        {
          "output_type": "stream",
          "text": [
            "enter a numberj\n",
            "its not a number\n",
            "this runs anyway\n"
          ],
          "name": "stdout"
        }
      ]
    },
    {
      "cell_type": "code",
      "metadata": {
        "id": "xcgbXxaFvhPJ",
        "colab_type": "code",
        "outputId": "810edf10-2c7d-4378-8d23-acb92f304ba7",
        "colab": {
          "base_uri": "https://localhost:8080/",
          "height": 312
        }
      },
      "source": [
        "import pdb\n",
        "\n",
        "first = 'first'\n",
        "second = 'second'\n",
        "pdb.set_trace()\n",
        "result = first + second"
      ],
      "execution_count": 0,
      "outputs": [
        {
          "output_type": "stream",
          "text": [
            "--Return--\n",
            "> <ipython-input-69-3aa9ff102fbe>(5)<module>()->None\n",
            "-> pdb.set_trace()\n",
            "(Pdb) l\n",
            "  1  \timport pdb\n",
            "  2  \t\n",
            "  3  \tfirst = 'first'\n",
            "  4  \tsecond = 'second'\n",
            "  5  ->\tpdb.set_trace()\n",
            "  6  \tresult = first + second\n",
            "[EOF]\n",
            "(Pdb) n\n",
            "> /usr/local/lib/python3.6/dist-packages/IPython/core/interactiveshell.py(2885)run_code()\n",
            "-> sys.excepthook = old_excepthook\n",
            "(Pdb) p\n",
            "*** SyntaxError: unexpected EOF while parsing\n",
            "(Pdb) c\n"
          ],
          "name": "stdout"
        }
      ]
    },
    {
      "cell_type": "markdown",
      "metadata": {
        "id": "qwFPFGs91ASn",
        "colab_type": "text"
      },
      "source": [
        "OBJECT ORIENTED PROGRAMMING"
      ]
    },
    {
      "cell_type": "code",
      "metadata": {
        "id": "MB4vQi2H1FOc",
        "colab_type": "code",
        "colab": {}
      },
      "source": [
        "# a class is a bluprint for an object , they can contain methods and attributes\n",
        "# an instance is the object created from the blueprint of the class\n",
        "\n",
        "# encapsulation : grouping the public and private attributes and ethods into programmatic classes, abstraction is made possible\n",
        "# abstraction : only displaying the relevent data and hiding the private attributes and methods\n",
        "# inheritence\n",
        "# polymorphism"
      ],
      "execution_count": 0,
      "outputs": []
    },
    {
      "cell_type": "code",
      "metadata": {
        "id": "1tgMkUffYoPU",
        "colab_type": "code",
        "outputId": "4c45ae27-47f4-411e-ad73-4d13fb86bc31",
        "colab": {
          "base_uri": "https://localhost:8080/",
          "height": 52
        }
      },
      "source": [
        "# creating a class\n",
        "# the __init__ methode is called everytime an instance is created (instantiate)\n",
        "\n",
        "class demo:\n",
        "  def __init__(self):\n",
        "    print('this is how class is created')\n",
        "\n",
        "  def yay(self):\n",
        "    print('this is a method')\n",
        "\n",
        "c = demo()\n",
        "c.yay()"
      ],
      "execution_count": 0,
      "outputs": [
        {
          "output_type": "stream",
          "text": [
            "this is how class is created\n",
            "this is a method\n"
          ],
          "name": "stdout"
        }
      ]
    },
    {
      "cell_type": "code",
      "metadata": {
        "id": "EvMXXVNhZPFZ",
        "colab_type": "code",
        "outputId": "fb5dec6f-7ae6-4877-bd5c-67a38b7fea2e",
        "colab": {
          "base_uri": "https://localhost:8080/",
          "height": 35
        }
      },
      "source": [
        "class num():\n",
        "  def __init__(self,num1,num2,op):\n",
        "    self.num1 = num1\n",
        "    self.num2 = num2\n",
        "    self.op = op\n",
        "\n",
        "  def operation(self):\n",
        "    print('{} operation is done on {} and {}'.format(self.op,self.num1,self.num2))\n",
        "\n",
        "calc = num(5,6,7)\n",
        "calc.operation()"
      ],
      "execution_count": 0,
      "outputs": [
        {
          "output_type": "stream",
          "text": [
            "7 operation is done on 5 and 6\n"
          ],
          "name": "stdout"
        }
      ]
    },
    {
      "cell_type": "code",
      "metadata": {
        "id": "5G2rkKpcdh8a",
        "colab_type": "code",
        "outputId": "fda754f3-581b-4e61-d2fe-d7fdc60b6df2",
        "colab": {
          "base_uri": "https://localhost:8080/",
          "height": 52
        }
      },
      "source": [
        "# class attributes : the attributes which are common for all the instances created\n",
        "# class methods : which are commmon for all instances created\n",
        "\n",
        "class animals():\n",
        "\n",
        "  def __init__(self,sound,name='just dog'):\n",
        "    self.name = name\n",
        "    self.sound = sound\n",
        "\n",
        "  def __repr__(self):\n",
        "    return self.name\n",
        "\n",
        "dog = animals(name='bob',sound='woof')\n",
        "print(dog)\n",
        "\n",
        "dogu = animals(sound='bark')\n",
        "print(dogu)"
      ],
      "execution_count": 0,
      "outputs": [
        {
          "output_type": "stream",
          "text": [
            "bob\n",
            "just dog\n"
          ],
          "name": "stdout"
        }
      ]
    },
    {
      "cell_type": "code",
      "metadata": {
        "id": "sc7tAtfJbocP",
        "colab_type": "code",
        "outputId": "d335f1d2-e547-4b48-cb6d-92029dbb863d",
        "colab": {
          "base_uri": "https://localhost:8080/"
        }
      },
      "source": [
        "# inheritence\n",
        "\n",
        "class animals():\n",
        "\n",
        "  def __init__(self,name,species):\n",
        "    self.name = name\n",
        "    self.species = species\n",
        "\n",
        "  def __repr__(self):\n",
        "    return \"{} is the name and the species is {}\".format(self.name,self.species)\n",
        "\n",
        "  def make_sound(self,sound):\n",
        "    print(\"this naimal makes {} sound\".format(sound))\n",
        "\n",
        "  \n",
        "class dogs(animals):\n",
        "\n",
        "  def __init__(self,name,species,food,toy):\n",
        "    super().__init__(name,species)\n",
        "    self.food = food\n",
        "    self.toy = toy\n",
        "\n",
        "  def plays(self,play):\n",
        "    print('{} wants to play {}'.format(self.name,play))\n",
        "\n",
        "scooby = dogs('scoobs','dog','bones','ball')\n",
        "print(scooby)\n",
        "scooby.make_sound('woof')\n",
        "print(scooby.toy)\n",
        "scooby.plays('run and catch')"
      ],
      "execution_count": 0,
      "outputs": [
        {
          "output_type": "stream",
          "text": [
            "scoobs is the name and the species is dog\n",
            "this naimal makes woof sound\n",
            "ball\n",
            "scoobs wants to play run and catch\n"
          ],
          "name": "stdout"
        }
      ]
    },
    {
      "cell_type": "code",
      "metadata": {
        "id": "NnUKeaJdgkdF",
        "colab_type": "code",
        "outputId": "8eddaca3-b316-47ed-cb8b-7dd7e406d882",
        "colab": {
          "base_uri": "https://localhost:8080/"
        }
      },
      "source": [
        "# multiple inheritence\n",
        "\n",
        "class aquatic():\n",
        "\n",
        "  def __init__(self,name):\n",
        "    self.name = name\n",
        "\n",
        "  def swim(self):\n",
        "    print(\"{} swims\".format(self.name))\n",
        "\n",
        "  def greet(self):\n",
        "    print(\"{} sayys hello\".format(self.name))\n",
        "\n",
        "class ambulatory():\n",
        "\n",
        "  def __init__(self,name):\n",
        "    self.name = name\n",
        "\n",
        "  def walk(self):\n",
        "    print(\"{} walks\".format(self.name))\n",
        "\n",
        "  def greet(self):\n",
        "    print(\"{} greets you\".format(self.name))\n",
        "\n",
        "class penguine(ambulatory,aquatic): # the greet method depends on which class is inherited first\n",
        "\n",
        "  def __init__(self,name):\n",
        "    self.name = name\n",
        "\n",
        "penggu = penguine('fatty')\n",
        "penggu.walk()\n",
        "penggu.swim()\n",
        "penggu.greet()\n",
        "penguine.mro()"
      ],
      "execution_count": 0,
      "outputs": [
        {
          "output_type": "stream",
          "text": [
            "fatty walks\n",
            "fatty swims\n",
            "fatty greets you\n"
          ],
          "name": "stdout"
        },
        {
          "output_type": "execute_result",
          "data": {
            "text/plain": [
              "[__main__.penguine, __main__.ambulatory, __main__.aquatic, object]"
            ]
          },
          "metadata": {
            "tags": []
          },
          "execution_count": 16
        }
      ]
    },
    {
      "cell_type": "code",
      "metadata": {
        "id": "CYxNILuDo-41",
        "colab_type": "code",
        "outputId": "8150d2a6-1040-44ab-af1f-4000d5181c4e",
        "colab": {
          "base_uri": "https://localhost:8080/"
        }
      },
      "source": [
        "# polymorphism\n",
        "\n",
        "class animals():\n",
        "  def speak():\n",
        "    print(\"this animal speaks\")\n",
        "\n",
        "class dog(animals):\n",
        "  #def speak(self):\n",
        "    #print('this dog barks')\n",
        "\n",
        "  def speak(self,sound):\n",
        "    print('this dog {}'.format(sound))\n",
        "\n",
        "class cat(animals):\n",
        "  def speak(self):\n",
        "    print('this cat mewos')\n",
        "\n",
        "d = dog()\n",
        "#d.speak()\n",
        "d.speak('woof')"
      ],
      "execution_count": 0,
      "outputs": [
        {
          "output_type": "stream",
          "text": [
            "this dog woof\n"
          ],
          "name": "stdout"
        }
      ]
    },
    {
      "cell_type": "markdown",
      "metadata": {
        "id": "kAZ7awaRsUKV",
        "colab_type": "text"
      },
      "source": [
        "TEST DRIVEN DEVELOPEMENT"
      ]
    },
    {
      "cell_type": "markdown",
      "metadata": {
        "id": "i78quMUpsXS0",
        "colab_type": "text"
      },
      "source": [
        "Testing python code with doctests\n",
        "Testing python code with asserts\n",
        "Testing pyhton code with unittest module"
      ]
    },
    {
      "cell_type": "markdown",
      "metadata": {
        "id": "Kv8Ql4woBFkD",
        "colab_type": "text"
      },
      "source": [
        "Red, Green, Refactor\n",
        "\n",
        ". Red - Write a test that fails\n",
        "\n",
        ". Green - Write the minimal amount of code\n",
        "necessary to make the test pass\n",
        "\n",
        ". Refactor - Clean up the code, while ensuring that\n",
        "tests still pass"
      ]
    },
    {
      "cell_type": "markdown",
      "metadata": {
        "id": "y5KnhmeqBG8l",
        "colab_type": "text"
      },
      "source": [
        "Assertions\n",
        "\n",
        ". We can make simple assertions with the assert keyword\n",
        "\n",
        ". assert accepts an expression\n",
        "\n",
        "Returns None if the expression is truthy.\n",
        "Raises an AssertionError if the expression is falsy\n",
        "\n",
        ". Accepts an optional error message as a second argument\n"
      ]
    },
    {
      "cell_type": "code",
      "metadata": {
        "id": "0ttgzV2TDRd-",
        "colab_type": "code",
        "outputId": "11cd3433-8d37-44da-e0c8-63c2f9a58587",
        "colab": {
          "base_uri": "https://localhost:8080/",
          "height": 357
        }
      },
      "source": [
        "# assertion implementation\n",
        "\n",
        "def add(a,b):\n",
        "  assert a > 0 and b > 0, 'Both numbers must be positive'\n",
        "  return a+b\n",
        "\n",
        "sum = add(5,6)\n",
        "print(sum)\n",
        "\n",
        "sum = add(0,5)\n",
        "print(sum)"
      ],
      "execution_count": 0,
      "outputs": [
        {
          "output_type": "stream",
          "text": [
            "11\n"
          ],
          "name": "stdout"
        },
        {
          "output_type": "error",
          "ename": "AssertionError",
          "evalue": "ignored",
          "traceback": [
            "\u001b[0;31m---------------------------------------------------------------------------\u001b[0m",
            "\u001b[0;31mAssertionError\u001b[0m                            Traceback (most recent call last)",
            "\u001b[0;32m<ipython-input-4-a96e7538c00b>\u001b[0m in \u001b[0;36m<module>\u001b[0;34m()\u001b[0m\n\u001b[1;32m      7\u001b[0m \u001b[0mprint\u001b[0m\u001b[0;34m(\u001b[0m\u001b[0msum\u001b[0m\u001b[0;34m)\u001b[0m\u001b[0;34m\u001b[0m\u001b[0;34m\u001b[0m\u001b[0m\n\u001b[1;32m      8\u001b[0m \u001b[0;34m\u001b[0m\u001b[0m\n\u001b[0;32m----> 9\u001b[0;31m \u001b[0msum\u001b[0m \u001b[0;34m=\u001b[0m \u001b[0madd\u001b[0m\u001b[0;34m(\u001b[0m\u001b[0;36m0\u001b[0m\u001b[0;34m,\u001b[0m\u001b[0;36m5\u001b[0m\u001b[0;34m)\u001b[0m\u001b[0;34m\u001b[0m\u001b[0;34m\u001b[0m\u001b[0m\n\u001b[0m\u001b[1;32m     10\u001b[0m \u001b[0mprint\u001b[0m\u001b[0;34m(\u001b[0m\u001b[0msum\u001b[0m\u001b[0;34m)\u001b[0m\u001b[0;34m\u001b[0m\u001b[0;34m\u001b[0m\u001b[0m\n",
            "\u001b[0;32m<ipython-input-4-a96e7538c00b>\u001b[0m in \u001b[0;36madd\u001b[0;34m(a, b)\u001b[0m\n\u001b[1;32m      1\u001b[0m \u001b[0;34m\u001b[0m\u001b[0m\n\u001b[1;32m      2\u001b[0m \u001b[0;32mdef\u001b[0m \u001b[0madd\u001b[0m\u001b[0;34m(\u001b[0m\u001b[0ma\u001b[0m\u001b[0;34m,\u001b[0m\u001b[0mb\u001b[0m\u001b[0;34m)\u001b[0m\u001b[0;34m:\u001b[0m\u001b[0;34m\u001b[0m\u001b[0;34m\u001b[0m\u001b[0m\n\u001b[0;32m----> 3\u001b[0;31m   \u001b[0;32massert\u001b[0m \u001b[0ma\u001b[0m \u001b[0;34m>\u001b[0m \u001b[0;36m0\u001b[0m \u001b[0;32mand\u001b[0m \u001b[0mb\u001b[0m \u001b[0;34m>\u001b[0m \u001b[0;36m0\u001b[0m\u001b[0;34m,\u001b[0m \u001b[0;34m'Both numbers must be positive'\u001b[0m\u001b[0;34m\u001b[0m\u001b[0;34m\u001b[0m\u001b[0m\n\u001b[0m\u001b[1;32m      4\u001b[0m   \u001b[0;32mreturn\u001b[0m \u001b[0ma\u001b[0m\u001b[0;34m+\u001b[0m\u001b[0mb\u001b[0m\u001b[0;34m\u001b[0m\u001b[0;34m\u001b[0m\u001b[0m\n\u001b[1;32m      5\u001b[0m \u001b[0;34m\u001b[0m\u001b[0m\n",
            "\u001b[0;31mAssertionError\u001b[0m: Both numbers must be positive"
          ]
        }
      ]
    },
    {
      "cell_type": "code",
      "metadata": {
        "id": "uIwTTUxc4aSn",
        "colab_type": "code",
        "colab": {}
      },
      "source": [
        "# unittests used in pycharm"
      ],
      "execution_count": 0,
      "outputs": []
    },
    {
      "cell_type": "markdown",
      "metadata": {
        "id": "BTG7PmUhEKTF",
        "colab_type": "text"
      },
      "source": [
        "Iterarbles : which can be converted into iterator\n",
        "\n",
        "Iterator : which returns one object at a time when next is called on it"
      ]
    },
    {
      "cell_type": "code",
      "metadata": {
        "id": "_Ff5jTemEoWj",
        "colab_type": "code",
        "outputId": "9edb7f10-4bab-474b-b995-4fe7dfd02c5b",
        "colab": {
          "base_uri": "https://localhost:8080/",
          "height": 69
        }
      },
      "source": [
        "# iterator\n",
        "\n",
        "name = 'pooja'\n",
        "it = iter(name)\n",
        "print(next(it))\n",
        "print(next(it))\n",
        "print(next(it))"
      ],
      "execution_count": 0,
      "outputs": [
        {
          "output_type": "stream",
          "text": [
            "p\n",
            "o\n",
            "o\n"
          ],
          "name": "stdout"
        }
      ]
    },
    {
      "cell_type": "code",
      "metadata": {
        "id": "p-pAm0PyFL93",
        "colab_type": "code",
        "outputId": "e23ebb97-073b-4519-9fb5-ff5ad04d2bab",
        "colab": {
          "base_uri": "https://localhost:8080/",
          "height": 104
        }
      },
      "source": [
        "def display(iterable,func):\n",
        "  iterator = iter(iterable)\n",
        "  while True:\n",
        "    try:\n",
        "      thing = next(iterator)\n",
        "    except StopIteration:\n",
        "      break\n",
        "    else:\n",
        "      func(thing)\n",
        "\n",
        "display('pooja',print)\n"
      ],
      "execution_count": 0,
      "outputs": [
        {
          "output_type": "stream",
          "text": [
            "p\n",
            "o\n",
            "o\n",
            "j\n",
            "a\n"
          ],
          "name": "stdout"
        }
      ]
    },
    {
      "cell_type": "code",
      "metadata": {
        "id": "BbzkK3lqG-bB",
        "colab_type": "code",
        "outputId": "dd1bf48b-c446-4ab7-9db8-78550ff3ae4a",
        "colab": {
          "base_uri": "https://localhost:8080/",
          "height": 191
        }
      },
      "source": [
        "class counter():\n",
        "\n",
        "  def __init__(self,low,high):\n",
        "    self.low = low\n",
        "    self.high  = high\n",
        "\n",
        "  def __iter__(self):\n",
        "    return self\n",
        "\n",
        "  def __next__(self):\n",
        "    if self.low < self.high:\n",
        "      temp = self.low\n",
        "      self.low += 1\n",
        "      return temp\n",
        "    raise StopIteration\n",
        "\n",
        "for x in counter(0,10):\n",
        "  print(x)"
      ],
      "execution_count": 0,
      "outputs": [
        {
          "output_type": "stream",
          "text": [
            "0\n",
            "1\n",
            "2\n",
            "3\n",
            "4\n",
            "5\n",
            "6\n",
            "7\n",
            "8\n",
            "9\n"
          ],
          "name": "stdout"
        }
      ]
    },
    {
      "cell_type": "markdown",
      "metadata": {
        "id": "semmVbxwwiKD",
        "colab_type": "text"
      },
      "source": [
        "Generators are iterators. They are created with generator functions. It involves 'yield' keyword to return the generator. When invoked returns the generator."
      ]
    },
    {
      "cell_type": "code",
      "metadata": {
        "id": "2zCqaDo8w4B_",
        "colab_type": "code",
        "outputId": "491eaa0e-ea00-4d3a-c10c-bd6d5bf2f676",
        "colab": {
          "base_uri": "https://localhost:8080/",
          "height": 35
        }
      },
      "source": [
        "def display(num):\n",
        "  count = 1\n",
        "  while count < num:\n",
        "    yield count\n",
        "    count += 1\n",
        "\n",
        "display(5)\n",
        "\n",
        "counter = display(5)\n",
        "next(counter)\n",
        "next(counter)"
      ],
      "execution_count": 0,
      "outputs": [
        {
          "output_type": "execute_result",
          "data": {
            "text/plain": [
              "2"
            ]
          },
          "metadata": {
            "tags": []
          },
          "execution_count": 10
        }
      ]
    },
    {
      "cell_type": "code",
      "metadata": {
        "id": "ttn7nWFBxpqF",
        "colab_type": "code",
        "outputId": "a6aa2068-b6fe-47a7-8056-318ce6459533",
        "colab": {
          "base_uri": "https://localhost:8080/",
          "height": 305
        }
      },
      "source": [
        "# geenrating fibonacci series using generator\n",
        "\n",
        "def fib(num):\n",
        "\n",
        "  x = 0\n",
        "  y = 1\n",
        "  count = 0\n",
        "  while count < num:\n",
        "    x , y = y , x + y\n",
        "    yield x\n",
        "    count += 1\n",
        "\n",
        "fibo = fib(5)\n",
        "print('0')\n",
        "print(next(fibo))\n",
        "print(next(fibo))\n",
        "print(next(fibo))\n",
        "print(next(fibo))\n",
        "print(next(fibo))\n",
        "print(next(fibo))"
      ],
      "execution_count": 0,
      "outputs": [
        {
          "output_type": "stream",
          "text": [
            "0\n",
            "1\n",
            "1\n",
            "2\n",
            "3\n",
            "5\n"
          ],
          "name": "stdout"
        },
        {
          "output_type": "error",
          "ename": "StopIteration",
          "evalue": "ignored",
          "traceback": [
            "\u001b[0;31m---------------------------------------------------------------------------\u001b[0m",
            "\u001b[0;31mStopIteration\u001b[0m                             Traceback (most recent call last)",
            "\u001b[0;32m<ipython-input-20-9347aa80962d>\u001b[0m in \u001b[0;36m<module>\u001b[0;34m()\u001b[0m\n\u001b[1;32m     17\u001b[0m \u001b[0mprint\u001b[0m\u001b[0;34m(\u001b[0m\u001b[0mnext\u001b[0m\u001b[0;34m(\u001b[0m\u001b[0mfibo\u001b[0m\u001b[0;34m)\u001b[0m\u001b[0;34m)\u001b[0m\u001b[0;34m\u001b[0m\u001b[0;34m\u001b[0m\u001b[0m\n\u001b[1;32m     18\u001b[0m \u001b[0mprint\u001b[0m\u001b[0;34m(\u001b[0m\u001b[0mnext\u001b[0m\u001b[0;34m(\u001b[0m\u001b[0mfibo\u001b[0m\u001b[0;34m)\u001b[0m\u001b[0;34m)\u001b[0m\u001b[0;34m\u001b[0m\u001b[0;34m\u001b[0m\u001b[0m\n\u001b[0;32m---> 19\u001b[0;31m \u001b[0mprint\u001b[0m\u001b[0;34m(\u001b[0m\u001b[0mnext\u001b[0m\u001b[0;34m(\u001b[0m\u001b[0mfibo\u001b[0m\u001b[0;34m)\u001b[0m\u001b[0;34m)\u001b[0m\u001b[0;34m\u001b[0m\u001b[0;34m\u001b[0m\u001b[0m\n\u001b[0m",
            "\u001b[0;31mStopIteration\u001b[0m: "
          ]
        }
      ]
    },
    {
      "cell_type": "markdown",
      "metadata": {
        "id": "a0OBmCElzgUO",
        "colab_type": "text"
      },
      "source": [
        "Lists vs. Generators\n",
        "\n",
        "Lists occupy very large space when compared to generator.\n",
        "\n",
        "Listd is much slower when compared to generator\n",
        "\n",
        "List comprehension involve : []\n",
        "\n",
        "Generator expression involve : ()"
      ]
    },
    {
      "cell_type": "code",
      "metadata": {
        "id": "3O_rWOUpz5k8",
        "colab_type": "code",
        "outputId": "38012940-bb19-4303-9ac8-a0dc659256eb",
        "colab": {
          "base_uri": "https://localhost:8080/",
          "height": 87
        }
      },
      "source": [
        "# time comparision between generator and lists\n",
        "\n",
        "import time\n",
        "\n",
        "gen_start = time.time()\n",
        "print(sum(n for n in range(1000000)))\n",
        "gen_stop = time.time() - gen_start\n",
        "\n",
        "list_start = time.time()\n",
        "print(sum([n for n in range(1000000)]))\n",
        "list_stop = time.time() - list_start\n",
        "\n",
        "print('{}'.format(gen_stop))\n",
        "print('{}'.format(list_stop))"
      ],
      "execution_count": 0,
      "outputs": [
        {
          "output_type": "stream",
          "text": [
            "499999500000\n",
            "499999500000\n",
            "0.05539083480834961\n",
            "0.10084652900695801\n"
          ],
          "name": "stdout"
        }
      ]
    },
    {
      "cell_type": "markdown",
      "metadata": {
        "id": "NWMzOLgg16O1",
        "colab_type": "text"
      },
      "source": [
        "Decorator:\n",
        "\n",
        "They are an example to higher order functions. They wrap other functions for bettr funtioning"
      ]
    },
    {
      "cell_type": "code",
      "metadata": {
        "id": "muCXYYTS2fju",
        "colab_type": "code",
        "outputId": "3bf8d7e8-1de3-4f85-e615-f6852da74a71",
        "colab": {
          "base_uri": "https://localhost:8080/",
          "height": 87
        }
      },
      "source": [
        "# decorator implementation\n",
        "\n",
        "def be_polite(fn):\n",
        "  def wrapper():\n",
        "    print('hello there')\n",
        "    fn()\n",
        "    print('have a great day')\n",
        "  return wrapper\n",
        "\n",
        "@be_polite\n",
        "def greet():\n",
        "  print('hello there im pooja')\n",
        "\n",
        "print(greet())"
      ],
      "execution_count": 0,
      "outputs": [
        {
          "output_type": "stream",
          "text": [
            "hello there\n",
            "hello there im pooja\n",
            "have a great day\n",
            "None\n"
          ],
          "name": "stdout"
        }
      ]
    },
    {
      "cell_type": "code",
      "metadata": {
        "id": "kFgiRaQVS8zL",
        "colab_type": "code",
        "outputId": "b88bc586-6bab-4599-fb12-7d1d8f00246c",
        "colab": {
          "base_uri": "https://localhost:8080/",
          "height": 69
        }
      },
      "source": [
        "a = [[1,2,3],[4,5,6],[7,8,9]]\n",
        "print(len(a))\n",
        "sum1 = 0\n",
        "sum2 = 0\n",
        "for i in range(len(a)):\n",
        "  sum1 += a[i][i]\n",
        "print(sum1)\n",
        "\n",
        "i = 0\n",
        "j=len(a)-1\n",
        "\n",
        "while i <= len(a)-1 and j >= 0:\n",
        "  sum2 += a[i][j]\n",
        "  i += 1\n",
        "  j -= 1\n",
        "print(sum2)\n"
      ],
      "execution_count": 0,
      "outputs": [
        {
          "output_type": "stream",
          "text": [
            "3\n",
            "15\n",
            "15\n"
          ],
          "name": "stdout"
        }
      ]
    },
    {
      "cell_type": "code",
      "metadata": {
        "id": "PSV_WXRgcKty",
        "colab_type": "code",
        "outputId": "9dab1bd6-ce93-4f67-b5f5-5bed3e99b2eb",
        "colab": {
          "base_uri": "https://localhost:8080/",
          "height": 104
        }
      },
      "source": [
        "def staircase(n):\n",
        "     for i in range(1, n + 1):\n",
        "       print(' ' * (n - i) + '#' * i)\n",
        "\n",
        "staircase(5)"
      ],
      "execution_count": 0,
      "outputs": [
        {
          "output_type": "stream",
          "text": [
            "    #\n",
            "   ##\n",
            "  ###\n",
            " ####\n",
            "#####\n"
          ],
          "name": "stdout"
        }
      ]
    },
    {
      "cell_type": "code",
      "metadata": {
        "id": "n_s2JXE5g6k6",
        "colab_type": "code",
        "outputId": "c8307d06-dcdc-4503-ed3f-775a852149fe",
        "colab": {
          "base_uri": "https://localhost:8080/",
          "height": 35
        }
      },
      "source": [
        "def miniMaxSum(arr):\n",
        "\n",
        "    sum=0\n",
        "    for i in range(len(arr)):\n",
        "        sum+=arr[i]\n",
        "    print ( sum-max(arr), sum-min(arr))\n",
        "\n",
        "a = [1,2,3,4,5]\n",
        "miniMaxSum(a)"
      ],
      "execution_count": 0,
      "outputs": [
        {
          "output_type": "stream",
          "text": [
            "10 14\n"
          ],
          "name": "stdout"
        }
      ]
    },
    {
      "cell_type": "code",
      "metadata": {
        "id": "s_qUmyN_NlRU",
        "colab_type": "code",
        "outputId": "785706a1-1efb-46ee-9e6b-60fb1c9226d8",
        "colab": {
          "base_uri": "https://localhost:8080/",
          "height": 69
        }
      },
      "source": [
        "s1 ='pooja'\n",
        "s2 = 'puja'\n",
        "\n",
        "m1 = set(s1)\n",
        "m2 = set(s2)\n",
        "print(m1)\n",
        "print(m2)\n",
        "if m1 & m2: # set.intersection(m1,m2)\n",
        "  print('Ýes')"
      ],
      "execution_count": 0,
      "outputs": [
        {
          "output_type": "stream",
          "text": [
            "{'a', 'o', 'j', 'p'}\n",
            "{'a', 'u', 'j', 'p'}\n",
            "Ýes\n"
          ],
          "name": "stdout"
        }
      ]
    },
    {
      "cell_type": "code",
      "metadata": {
        "id": "Vcc-0giWeQTh",
        "colab_type": "code",
        "colab": {}
      },
      "source": [
        "def count_substring(string, sub_string):\n",
        "     # Initialize count and start to 0 \n",
        "    count = 0\n",
        "    start = 0\n",
        "  \n",
        "    # Search through the string till \n",
        "    # we reach the end of it \n",
        "    while start < len(string): \n",
        "  \n",
        "        # Check if a substring is present from \n",
        "        # 'start' position till the end \n",
        "        pos = string.find(sub_string, start) \n",
        "  \n",
        "        if pos != -1: \n",
        "            # If a substring is present, move 'start' to \n",
        "            # the next position from start of the substring \n",
        "            start = pos + 1\n",
        "  \n",
        "            # Increment the count \n",
        "            count += 1\n",
        "        else: \n",
        "            # If no further substring is present \n",
        "            break\n",
        "    # return the value of count \n",
        "    return count\n"
      ],
      "execution_count": 0,
      "outputs": []
    },
    {
      "cell_type": "code",
      "metadata": {
        "id": "x69uZ7CKgSRu",
        "colab_type": "code",
        "outputId": "4aaaa68a-d029-4fad-d1d1-c9735fe45f76",
        "colab": {
          "base_uri": "https://localhost:8080/",
          "height": 35
        }
      },
      "source": [
        "print(True)"
      ],
      "execution_count": 0,
      "outputs": [
        {
          "output_type": "stream",
          "text": [
            "True\n"
          ],
          "name": "stdout"
        }
      ]
    },
    {
      "cell_type": "code",
      "metadata": {
        "id": "N-kCiruPBlQL",
        "colab_type": "code",
        "outputId": "f56885df-e63a-48b2-8ac7-c45795524299",
        "colab": {
          "base_uri": "https://localhost:8080/",
          "height": 104
        }
      },
      "source": [
        "a = 'pooja'\n",
        "l = list(a)\n",
        "print(l)\n",
        "print(str(l))\n",
        "string1 = ''.join(l)\n",
        "print(string1)\n",
        "if l[1].islower():\n",
        "  l[1]=l[1].upper()\n",
        "  print(l[1])\n",
        "l[1].isupper()"
      ],
      "execution_count": 0,
      "outputs": [
        {
          "output_type": "stream",
          "text": [
            "['p', 'o', 'o', 'j', 'a']\n",
            "['p', 'o', 'o', 'j', 'a']\n",
            "pooja\n",
            "O\n"
          ],
          "name": "stdout"
        },
        {
          "output_type": "execute_result",
          "data": {
            "text/plain": [
              "True"
            ]
          },
          "metadata": {
            "tags": []
          },
          "execution_count": 6
        }
      ]
    },
    {
      "cell_type": "code",
      "metadata": {
        "id": "g_vrPxVmteTG",
        "colab_type": "code",
        "outputId": "8d74985b-4f88-4b81-aec1-a41156edd549",
        "colab": {
          "base_uri": "https://localhost:8080/",
          "height": 52
        }
      },
      "source": [
        "n = 67 % 10\n",
        "print(n)\n",
        "if n > 5:\n",
        "  if 10 - n < 3 :\n",
        "    gardes[i] = grades[i] + 10 - n\n",
        "    new_grades.append(grades[i])\n",
        "  else:\n",
        "    new_grades.append(grades[i])\n",
        "\n",
        "else:\n",
        "  if 5 - n < 3:\n",
        "    grades[i] = grades[i] + 5 - n\n",
        "    new_grades.append(grades[i])\n",
        "  else:\n",
        "    new_grades.append(grades[i])"
      ],
      "execution_count": 0,
      "outputs": [
        {
          "output_type": "stream",
          "text": [
            "7\n",
            "it isnt less than 3\n"
          ],
          "name": "stdout"
        }
      ]
    },
    {
      "cell_type": "code",
      "metadata": {
        "id": "DRyxUfWk6TUu",
        "colab_type": "code",
        "outputId": "4e48efd7-c768-42cb-bbe9-f58139ee1dae",
        "colab": {
          "base_uri": "https://localhost:8080/",
          "height": 35
        }
      },
      "source": [
        "a = [1,2,3,4,5]\n",
        "b = [6,7,8,9,10]\n",
        "n = max(max(a),max(b))\n",
        "print(n)"
      ],
      "execution_count": 0,
      "outputs": [
        {
          "output_type": "stream",
          "text": [
            "10\n"
          ],
          "name": "stdout"
        }
      ]
    },
    {
      "cell_type": "markdown",
      "metadata": {
        "id": "8BJnYW_KS51D",
        "colab_type": "text"
      },
      "source": [
        "# Data structures and Algorithms"
      ]
    },
    {
      "cell_type": "markdown",
      "metadata": {
        "id": "jqpNUkZJ0-gA",
        "colab_type": "text"
      },
      "source": [
        "Computer science is the study of problems, problem-solving, and the solutions that come out of the problem-solving process. Given a problem, a computer scientist’s goal is to develop an algorithm, a step-by-step list of instructions for solving any instance of the problem that might arise. Algorithms are finite processes that if followed will solve the problem. Algorithms are solutions."
      ]
    },
    {
      "cell_type": "markdown",
      "metadata": {
        "id": "q08M4No_kiJ7",
        "colab_type": "text"
      },
      "source": [
        "Computer science, as it pertains to the problem-solving process itself, is also the study of abstraction. Abstraction allows us to view the problem and solution in such a way as to separate the so-called logical and physical perspectives."
      ]
    },
    {
      "cell_type": "markdown",
      "metadata": {
        "id": "Ah2ZdEimkkfy",
        "colab_type": "text"
      },
      "source": [
        " An abstract data type, sometimes abbreviated ADT, is a logical description of how we view the data and the operations that are allowed without regard to how they will be implemented. This means that we are concerned only with what the data is representing and not with how it will eventually be constructed. By providing this level of abstraction, we are creating an encapsulation around the data. The idea is that by encapsulating the details of the implementation, we are hiding them from the user’s view. This is called information hiding."
      ]
    },
    {
      "cell_type": "markdown",
      "metadata": {
        "id": "ydHAYq7KmBoT",
        "colab_type": "text"
      },
      "source": [
        "It is important to be able to distinguish between those problems that have solutions, those that do not, and those where solutions exist but require too much time or other resources to work reasonably.Finding a solution and then deciding whether it is a good one are tasks that we will do over and over again."
      ]
    },
    {
      "cell_type": "code",
      "metadata": {
        "id": "B_x0xl1S5dO3",
        "colab_type": "code",
        "outputId": "7d01dc58-6ac4-41dc-851c-49cb8e00c1cd",
        "colab": {
          "base_uri": "https://localhost:8080/",
          "height": 35
        }
      },
      "source": [
        "# this is used to calculate the time required for the main function to give the result\n",
        "\n",
        "import time \n",
        "\n",
        "def sumOfN2(n):\n",
        "   start = time.time()\n",
        "\n",
        "   theSum = 0\n",
        "   for i in range(1,n+1):\n",
        "      theSum = theSum + i\n",
        "\n",
        "   end = time.time()\n",
        "\n",
        "   return theSum,end-start\n",
        "\n",
        "sumOfN2(5)"
      ],
      "execution_count": 0,
      "outputs": [
        {
          "output_type": "execute_result",
          "data": {
            "text/plain": [
              "(15, 1.9073486328125e-06)"
            ]
          },
          "metadata": {
            "tags": []
          },
          "execution_count": 22
        }
      ]
    },
    {
      "cell_type": "markdown",
      "metadata": {
        "id": "auVbIKyk69Jn",
        "colab_type": "text"
      },
      "source": [
        "We need a better way to characterize these algorithms with respect to execution time. The benchmark technique computes the actual time to execute. It does not really provide us with a useful measurement, because it is dependent on a particular machine, program, time of day, compiler, and programming language. Instead, we would like to have a characterization that is independent of the program or computer being used. This measure would then be useful for judging the algorithm alone and could be used to compare algorithms across implementations."
      ]
    },
    {
      "cell_type": "code",
      "metadata": {
        "id": "XlDhj7o3D65_",
        "colab_type": "code",
        "outputId": "a19343ad-4cb6-4868-9549-97f57d74b660",
        "colab": {
          "base_uri": "https://localhost:8080/",
          "height": 52
        }
      },
      "source": [
        "# how to calculate the time taken by functions which have the same result\n",
        "\n",
        "import timeit\n",
        "from timeit import Timer\n",
        "\n",
        "def test1():\n",
        "    l = []\n",
        "    for i in range(1000):\n",
        "        l = l + [i]\n",
        "\n",
        "def test2():\n",
        "    l = []\n",
        "    for i in range(1000):\n",
        "        l.append(i)\n",
        "\n",
        "def test3():\n",
        "    l = [i for i in range(1000)]\n",
        "\n",
        "def test4():\n",
        "    l = list(range(1000))\n",
        "\n",
        "#To use timeit you create a Timer object whose parameters are two Python statements.\n",
        "#The first parameter is a Python statement that you want to time\n",
        "#the second parameter is a statement that will run once to set up the test.\n",
        "#By default timeit will try to run the statement one million times.\n",
        "# number allows you to specify how many times the test statement is executed.\n",
        "\n",
        "t1 = Timer('test1()', 'from __main__ import test1')\n",
        "print(t1.timeit(number=1000))\n",
        "\n",
        "t2 = Timer('test2()', 'from __main__ import test2')\n",
        "print(t2.timeit(number=1000))"
      ],
      "execution_count": 0,
      "outputs": [
        {
          "output_type": "stream",
          "text": [
            "1.0973434340012318\n",
            "0.06854923500031873\n"
          ],
          "name": "stdout"
        }
      ]
    },
    {
      "cell_type": "markdown",
      "metadata": {
        "id": "n0s9J3QEHchY",
        "colab_type": "text"
      },
      "source": [
        "LIST DATA STRUCTURE\n",
        "\n",
        "index [] : O(1)\n",
        "\n",
        "index assignment : O(1)\n",
        "\n",
        "append : O(1)\n",
        "\n",
        "pop() : O(1)\n",
        "\n",
        "pop(i) : O(n)\n",
        "\n",
        "insert(i,item) : O(n)\n",
        "\n",
        "del operator : O(n)\n",
        "\n",
        "iteration : O(n)\n",
        "\n",
        "contains (in) : O(n)\n",
        "\n",
        "get slice [x:y] : O(k)\n",
        "\n",
        "del slice : O(n)\n",
        "\n",
        "set slice : O(n+k)\n",
        "\n",
        "reverse : O(n)\n",
        "\n",
        "concatenate : O(k)\n",
        "\n",
        "sort : O(n log n)\n",
        "\n",
        "multiply : O(nk)"
      ]
    },
    {
      "cell_type": "markdown",
      "metadata": {
        "id": "8Xwi4ovdKBcB",
        "colab_type": "text"
      },
      "source": [
        "DICTIONARY DATA STRUCTURE\n",
        "\n",
        "copy : O(n)\n",
        "\n",
        "get item : O(1)\n",
        "\n",
        "set item : O(1)\n",
        "\n",
        "delete item : O(1)\n",
        "\n",
        "contains (in) : O(1)\n",
        "\n",
        "iteration : O(n)"
      ]
    },
    {
      "cell_type": "markdown",
      "metadata": {
        "id": "aTagzmbXIy_q",
        "colab_type": "text"
      },
      "source": [
        "Some sources of error in our little experiment include the fact that there are other processes running on the computer as we measure that may slow down our code, so even though we try to minimize other things happening on the computer there is bound to be some variation in time. That is why the loop runs the test one thousand times in the first place to statistically gather enough information to make the measurement reliable."
      ]
    },
    {
      "cell_type": "markdown",
      "metadata": {
        "id": "0rdkE0i7K9Z1",
        "colab_type": "text"
      },
      "source": [
        "# BASIC DATA STRUCTURES"
      ]
    },
    {
      "cell_type": "markdown",
      "metadata": {
        "id": "acTanwluLDUp",
        "colab_type": "text"
      },
      "source": [
        "STACK : ordered collection of data, insertion and removal from one end only, LIFO-last in first out     \n",
        "\n",
        "example : the back button in the browser, on clicking that button we access the recent page we visited"
      ]
    },
    {
      "cell_type": "markdown",
      "metadata": {
        "id": "B2MbREIDrvqk",
        "colab_type": "text"
      },
      "source": [
        "THE STACK OPERATIONS :\n",
        "\n",
        "Stack() creates a new stack that is empty. It needs no parameters and returns an empty stack.\n",
        "\n",
        "push(item) adds a new item to the top of the stack. It needs the item and returns nothing.\n",
        "\n",
        "pop() removes the top item from the stack. It needs no parameters and returns the item. The stack is modified.\n",
        "\n",
        "peek() returns the top item from the stack but does not remove it. It needs no parameters. The stack is not modified.\n",
        "\n",
        "isEmpty() tests to see whether the stack is empty. It needs no parameters and returns a boolean value.\n",
        "\n",
        "size() returns the number of items on the stack. It needs no parameters and returns an integer."
      ]
    },
    {
      "cell_type": "code",
      "metadata": {
        "id": "ODSB-lOHr9oX",
        "colab_type": "code",
        "outputId": "d5dca652-5dab-4759-8273-588195061cda",
        "colab": {
          "base_uri": "https://localhost:8080/",
          "height": 87
        }
      },
      "source": [
        "#  Stack implementation\n",
        "\n",
        "class Stack():\n",
        "\n",
        "  def __init__(self):\n",
        "    self.stack = []\n",
        "\n",
        "  def push(self,item):\n",
        "    self.stack.append(item)\n",
        "\n",
        "  def pop(self):\n",
        "    return self.stack.pop()\n",
        "\n",
        "  def peek(self):\n",
        "    return self.stack[:-1]\n",
        "\n",
        "  def isEmpty(self):\n",
        "    if len(self.stack) != 0:\n",
        "      return False\n",
        "    return True\n",
        "\n",
        "  def size(self):\n",
        "    return len(self.stack)\n",
        "\n",
        "\n",
        "s = Stack()\n",
        "\n",
        "s.push(4)\n",
        "print(s.isEmpty())\n",
        "s.push(5)\n",
        "s.push(7)\n",
        "print(s.pop())\n",
        "print(s.peek())\n",
        "print(s.size())"
      ],
      "execution_count": 0,
      "outputs": [
        {
          "output_type": "stream",
          "text": [
            "False\n",
            "7\n",
            "[4]\n",
            "2\n"
          ],
          "name": "stdout"
        }
      ]
    },
    {
      "cell_type": "code",
      "metadata": {
        "id": "DV699MkR25lq",
        "colab_type": "code",
        "outputId": "e73c92a4-c7ae-4c04-8900-fdcbeb94ca55",
        "colab": {
          "base_uri": "https://localhost:8080/",
          "height": 52
        }
      },
      "source": [
        "# paranthesis checker\n",
        "\n",
        "class Stack():\n",
        "\n",
        "  def __init__(self):\n",
        "    self.stack = []\n",
        "\n",
        "  def push(self,item):\n",
        "    self.stack.append(item)\n",
        "\n",
        "  def pop(self):\n",
        "    return self.stack.pop()\n",
        "\n",
        "  def peek(self):\n",
        "    return self.stack[:-1]\n",
        "\n",
        "  def isEmpty(self):\n",
        "    if len(self.stack) != 0:\n",
        "      return False\n",
        "    return True\n",
        "\n",
        "  def size(self):\n",
        "    return len(self.stack)\n",
        "\n",
        "def parChecker(symbolString):\n",
        "    s = Stack()\n",
        "    balanced = True\n",
        "    index = 0\n",
        "    while index < len(symbolString) and balanced:\n",
        "        symbol = symbolString[index]\n",
        "        if symbol == \"(\":\n",
        "            s.push(symbol)\n",
        "        else:\n",
        "            if s.isEmpty():\n",
        "                balanced = False\n",
        "            else:\n",
        "                s.pop()\n",
        "\n",
        "        index = index + 1\n",
        "\n",
        "    if balanced and s.isEmpty():\n",
        "        return True\n",
        "    else:\n",
        "        return False\n",
        "\n",
        "print(parChecker('((()))'))\n",
        "print(parChecker('(()'))"
      ],
      "execution_count": 0,
      "outputs": [
        {
          "output_type": "stream",
          "text": [
            "True\n",
            "False\n"
          ],
          "name": "stdout"
        }
      ]
    },
    {
      "cell_type": "code",
      "metadata": {
        "id": "obPKfut04Om1",
        "colab_type": "code",
        "outputId": "47598781-bcad-4f4b-dec9-46e79bb42938",
        "colab": {
          "base_uri": "https://localhost:8080/",
          "height": 52
        }
      },
      "source": [
        "# balanced symbols\n",
        "\n",
        "class Stack():\n",
        "\n",
        "  def __init__(self):\n",
        "    self.stack = []\n",
        "\n",
        "  def push(self,item):\n",
        "    self.stack.append(item)\n",
        "\n",
        "  def pop(self):\n",
        "    return self.stack.pop()\n",
        "\n",
        "  def peek(self):\n",
        "    return self.stack[:-1]\n",
        "\n",
        "  def isEmpty(self):\n",
        "    if len(self.stack) != 0:\n",
        "      return False\n",
        "    return True\n",
        "\n",
        "  def size(self):\n",
        "    return len(self.stack)\n",
        "\n",
        "def parChecker(symbolString):\n",
        "    s = Stack()\n",
        "    balanced = True\n",
        "    index = 0\n",
        "    while index < len(symbolString) and balanced:\n",
        "        symbol = symbolString[index]\n",
        "        if symbol in \"([{\":\n",
        "            s.push(symbol)\n",
        "        else:\n",
        "            if s.isEmpty():\n",
        "                balanced = False\n",
        "            else:\n",
        "                top = s.pop()\n",
        "                if not matches(top,symbol):\n",
        "                       balanced = False\n",
        "        index = index + 1\n",
        "    if balanced and s.isEmpty():\n",
        "        return True\n",
        "    else:\n",
        "        return False\n",
        "\n",
        "def matches(open,close):\n",
        "    opens = \"([{\"\n",
        "    closers = \")]}\"\n",
        "    return opens.index(open) == closers.index(close)\n",
        "\n",
        "\n",
        "print(parChecker('{({([][])}())}'))\n",
        "print(parChecker('[{()]'))\n"
      ],
      "execution_count": 0,
      "outputs": [
        {
          "output_type": "stream",
          "text": [
            "True\n",
            "False\n"
          ],
          "name": "stdout"
        }
      ]
    },
    {
      "cell_type": "markdown",
      "metadata": {
        "id": "7aIN9Up7BRqq",
        "colab_type": "text"
      },
      "source": [
        "QUEUE : an ordered collection of items which are added at one end, called the “rear,” and removed from the other end, called the “front.” Queues maintain a FIFO ordering property."
      ]
    },
    {
      "cell_type": "markdown",
      "metadata": {
        "id": "7Os_zTqDBdP-",
        "colab_type": "text"
      },
      "source": [
        "Queue() creates a new queue that is empty. It needs no parameters and returns an empty queue.\n",
        "\n",
        "enqueue(item) adds a new item to the rear of the queue. It needs the item and returns nothing.\n",
        "\n",
        "dequeue() removes the front item from the queue. It needs no parameters and returns the item. The queue is modified.\n",
        "\n",
        "isEmpty() tests to see whether the queue is empty. It needs no parameters and returns a boolean value.\n",
        "\n",
        "size() returns the number of items in the queue. It needs no parameters and returns an integer."
      ]
    },
    {
      "cell_type": "code",
      "metadata": {
        "id": "9puePdqgBizL",
        "colab_type": "code",
        "outputId": "c8941fc1-57be-4350-80d8-de4135af8e16",
        "colab": {
          "base_uri": "https://localhost:8080/",
          "height": 173
        }
      },
      "source": [
        "# queue implementation\n",
        "\n",
        "class queue():\n",
        "\n",
        "  def __init__(self):\n",
        "    self.items = []\n",
        "\n",
        "  def __repr__(self):\n",
        "    return 'this is the queue : {}'.format(self.items)\n",
        "\n",
        "  def enqueue(self,item):\n",
        "    self.items.append(item)\n",
        "\n",
        "  def dequeue(self):\n",
        "    return self.items.pop(0)\n",
        "\n",
        "  def isEmpty(self):\n",
        "    if len(self.items) != 0:\n",
        "      return False\n",
        "    return True\n",
        "\n",
        "  def size(self):\n",
        "    return len(self.items)\n",
        "\n",
        "q = queue()\n",
        "q.enqueue(5)\n",
        "q.enqueue(7)\n",
        "q.enqueue(1)\n",
        "print(q)\n",
        "print(q.dequeue())\n",
        "print('after dequeue')\n",
        "print(q)\n",
        "q.enqueue(6)\n",
        "print('after enqueue')\n",
        "print(q)\n",
        "print(q.isEmpty())\n",
        "print(q.size())\n",
        "print(q)\n"
      ],
      "execution_count": 0,
      "outputs": [
        {
          "output_type": "stream",
          "text": [
            "this is the queue : [5, 7, 1]\n",
            "5\n",
            "after dequeue\n",
            "this is the queue : [7, 1]\n",
            "after enqueue\n",
            "this is the queue : [7, 1, 6]\n",
            "False\n",
            "3\n",
            "this is the queue : [7, 1, 6]\n"
          ],
          "name": "stdout"
        }
      ]
    },
    {
      "cell_type": "code",
      "metadata": {
        "id": "06hGHU3mG5Lf",
        "colab_type": "code",
        "colab": {}
      },
      "source": [
        "# HOT POTATO\n",
        "\n",
        "class queue():\n",
        "\n",
        "  def __init__(self):\n",
        "    self.items = []\n",
        "\n",
        "  def __repr__(self):\n",
        "    return 'this is the queue : {}'.format(self.items)\n",
        "\n",
        "  def enqueue(self,item):\n",
        "    self.items.append(item)\n",
        "\n",
        "  def dequeue(self):\n",
        "    return self.items.pop(0)\n",
        "\n",
        "  def isEmpty(self):\n",
        "    if len(self.items) != 0:\n",
        "      return False\n",
        "    return True\n",
        "\n",
        "  def size(self):\n",
        "    return len(self.items)\n",
        "\n",
        "def game(names,num):\n",
        "\n",
        "  q = queue()\n",
        "  for x in names:\n",
        "    q.enqueue(x)\n",
        "\n",
        "  while q.size() > 1:\n",
        "    for index in range(num):\n",
        "      q.enqueue(q.dequeue)\n",
        "\n",
        "  return q.dequeue\n",
        "\n",
        "print(game([\"Bill\",\"David\",\"Susan\",\"Jane\",\"Kent\",\"Brad\"],7))\n"
      ],
      "execution_count": 0,
      "outputs": []
    },
    {
      "cell_type": "markdown",
      "metadata": {
        "id": "ZkiZkR3nN1o-",
        "colab_type": "text"
      },
      "source": [
        "DOUBLE ENDED QUEUE : an ordered collection of items where items are added and removed from either end, either front or rear. Acts like a queue and a stack too\n"
      ]
    },
    {
      "cell_type": "markdown",
      "metadata": {
        "id": "_gxbZZrPOA6z",
        "colab_type": "text"
      },
      "source": [
        "OPERATION IN A DEQUE :\n",
        "\n",
        "Deque() creates a new deque that is empty. It needs no parameters and returns an empty deque.\n",
        "\n",
        "addFront(item) adds a new item to the front of the deque. It needs the item and returns nothing.\n",
        "\n",
        "addRear(item) adds a new item to the rear of the deque. It needs the item and returns nothing.\n",
        "\n",
        "removeFront() removes the front item from the deque. It needs no parameters and returns the item. The deque is modified.\n",
        "\n",
        "removeRear() removes the rear item from the deque. It needs no parameters and returns the item. The deque is modified.\n",
        "\n",
        "isEmpty() tests to see whether the deque is empty. It needs no parameters and returns a boolean value.\n",
        "\n",
        "size() returns the number of items in the deque. It needs no parameters and returns an integer."
      ]
    },
    {
      "cell_type": "code",
      "metadata": {
        "id": "Rc3XLR3COOUG",
        "colab_type": "code",
        "outputId": "b0603ee9-6009-41a5-95a8-3db60bf09770",
        "colab": {
          "base_uri": "https://localhost:8080/",
          "height": 121
        }
      },
      "source": [
        "# deque implementation\n",
        "\n",
        "class Deque:\n",
        "    def __init__(self):\n",
        "        self.items = []\n",
        "\n",
        "    def __repr__(self):\n",
        "        return 'this is the queue : {}'.format(self.items)\n",
        "\n",
        "    def isEmpty(self):\n",
        "        return self.items == []\n",
        "\n",
        "    def addFront(self, item):\n",
        "        self.items.append(item)\n",
        "\n",
        "    def addRear(self, item):\n",
        "        self.items.insert(0,item)\n",
        "\n",
        "    def removeFront(self):\n",
        "        return self.items.pop()\n",
        "\n",
        "    def removeRear(self):\n",
        "        return self.items.pop(0)\n",
        "\n",
        "    def size(self):\n",
        "        return len(self.items)\n",
        "\n",
        "dq = Deque()\n",
        "dq.addFront(3)\n",
        "print(dq)\n",
        "dq.addRear(7)\n",
        "print(dq)\n",
        "dq.addFront(8)\n",
        "print(dq)\n",
        "print(dq.removeRear())\n",
        "print(dq)\n",
        "print(dq.removeFront())"
      ],
      "execution_count": 0,
      "outputs": [
        {
          "output_type": "stream",
          "text": [
            "this is the queue : [3]\n",
            "this is the queue : [7, 3]\n",
            "this is the queue : [7, 3, 8]\n",
            "7\n",
            "this is the queue : [3, 8]\n",
            "8\n"
          ],
          "name": "stdout"
        }
      ]
    },
    {
      "cell_type": "markdown",
      "metadata": {
        "id": "tCE9Aq2evaHP",
        "colab_type": "text"
      },
      "source": [
        "LINKED LIST "
      ]
    },
    {
      "cell_type": "code",
      "metadata": {
        "id": "2_uRTKO3vcp2",
        "colab_type": "code",
        "colab": {}
      },
      "source": [
        "# singly linked list\n",
        "\n",
        "\n",
        "class SLLNode:\n",
        "\n",
        "    def __init__(self, data):\n",
        "        self.data = data\n",
        "        self.next = None\n",
        "\n",
        "    def __repr__(self):\n",
        "        return \"SLLNode object: data={}\".format(self.data)\n",
        "\n",
        "    def get_data(self):\n",
        "        \"\"\"Return the self.data attribute.\"\"\"\n",
        "        return self.data\n",
        "\n",
        "    def set_data(self, new_data):\n",
        "        \"\"\"Replace the existing value of the self.data attribute with new_data\n",
        "        parameter.\"\"\"\n",
        "        self.data = new_data\n",
        "\n",
        "    def get_next(self):\n",
        "        \"\"\"Return the self.next attribute\"\"\"\n",
        "        return self.next\n",
        "\n",
        "    def set_next(self, new_next):\n",
        "        \"\"\"Replace the existing value of the self.next attribute with new_next\n",
        "        parameter.\"\"\"\n",
        "        self.next = new_next\n",
        "\n",
        "\n",
        "class SLL:\n",
        "\n",
        "    def __init__(self):\n",
        "        self.head = None\n",
        "\n",
        "    def __repr__(self):\n",
        "        return \"SLL object: head={}\".format(self.head)\n",
        "\n",
        "    def is_empty(self):\n",
        "        \"\"\"Returns True if the Linked List is empty. Otherwise, returns False.\"\"\"\n",
        "        return self.head is None  # self.head == None\n",
        "\n",
        "    def add_front(self, new_data):\n",
        "        \"\"\"Add a Node whose data is the new_data argument to the front of the\n",
        "        Linked List.\"\"\"\n",
        "        temp = SLLNode(new_data)\n",
        "        temp.set_next(self.head)\n",
        "        self.head = temp\n",
        "\n",
        "    def size(self):\n",
        "        \"\"\"Traverses the Linked List and returns an integer value representing\n",
        "        the number of nodes in the Linked List.\n",
        "\n",
        "        The time complexity is O(n) because every Node in the Linked List must\n",
        "        be visited in order to calculate the size of the Linked List.\n",
        "        \"\"\"\n",
        "        size = 0\n",
        "        if self.head is None:\n",
        "            return 0\n",
        "\n",
        "        current = self.head\n",
        "        while current is not None:  # While there are still Nodes left to count\n",
        "            size += 1\n",
        "            current = current.get_next()\n",
        "\n",
        "        return size\n",
        "\n",
        "    def search(self, data):\n",
        "        \"\"\"Traverses the Linked List and returns True if the data searched for\n",
        "        is present in one of the Nodes. Otherwise, it returns False.\n",
        "\n",
        "        The time complexity is O(n) because in the worst case, we have to visit\n",
        "        every Node in the list.\n",
        "        \"\"\"\n",
        "        if self.head is None:\n",
        "            return \"Linked List is empty. No Nodes to search.\"\n",
        "\n",
        "        current = self.head\n",
        "        while current is not None:\n",
        "            if current.get_data() == data:\n",
        "                return True\n",
        "            else:\n",
        "                current = current.get_next()\n",
        "\n",
        "        return False\n",
        "\n",
        "    def remove(self, data):\n",
        "        \"\"\"Removes the first occurence of a Node that contains the data argument\n",
        "        as its self.data variable. Returns nothing.\n",
        "\n",
        "        The time complexity is O(n) because in the worst case we have to visit\n",
        "        every Node before we find the one we need to remove.\n",
        "        \"\"\"\n",
        "        if self.head is None:\n",
        "            return \"Linked List is empty. No Nodes to remove.\"\n",
        "\n",
        "        current = self.head\n",
        "        previous = None\n",
        "        found = False\n",
        "        while not found:\n",
        "            if current.get_data() == data:\n",
        "                found = True\n",
        "            else:\n",
        "                if current.get_next() == None:\n",
        "                    return \"A Node with that data value is not present.\"\n",
        "                else:\n",
        "                    previous = current\n",
        "                    current = current.get_next()\n",
        "\n",
        "        if previous is None:\n",
        "            self.head = current.get_next()\n",
        "        else:\n",
        "            previous.set_next(current.get_next())\n"
      ],
      "execution_count": 0,
      "outputs": []
    },
    {
      "cell_type": "code",
      "metadata": {
        "id": "rlyHHapm4LIg",
        "colab_type": "code",
        "colab": {}
      },
      "source": [
        "# doubly linked list\n",
        "\n",
        "class DLLNode:\n",
        "\n",
        "    def __init__(self, data):\n",
        "        self.data = data\n",
        "        self.next = None\n",
        "        self.previous = None\n",
        "\n",
        "    def __repr__(self):\n",
        "        return \"DLLNode object: data={}\".format(self.data)\n",
        "\n",
        "    def get_data(self):\n",
        "        \"\"\"Return the self.data attribute.\"\"\"\n",
        "        return self.data\n",
        "\n",
        "    def set_data(self, new_data):\n",
        "        \"\"\"Replace the existing value of the self.data attribute with new_data\n",
        "        parameter.\"\"\"\n",
        "        self.data = new_data\n",
        "\n",
        "    def get_next(self):\n",
        "        \"\"\"Return the self.next attribute\"\"\"\n",
        "        return self.next\n",
        "\n",
        "    def set_next(self, new_next):\n",
        "        \"\"\"Replace the existing value of the self.next attribute with new_next\n",
        "        parameter.\"\"\"\n",
        "        self.next = new_next\n",
        "\n",
        "    def get_previous(self):\n",
        "        \"\"\"Return the self.previous attribute\"\"\"\n",
        "        return self.previous\n",
        "\n",
        "    def set_previous(self, new_previous):\n",
        "        \"\"\"Replace the existing value of the self.previous attribute with\n",
        "        new_previous parameter.\"\"\"\n",
        "        self.previous = new_previous\n",
        "\n",
        "\n",
        "class DLL:\n",
        "\n",
        "    def __init__(self):\n",
        "        self.head = None\n",
        "\n",
        "    def __repr__(self):\n",
        "        return \"<DLL object: head=>\".format(self.head)\n",
        "\n",
        "    def is_empty(self):\n",
        "        return self.head is None\n",
        "\n",
        "    def size(self):\n",
        "        \"\"\"Traverses the Linked List and returns an integer value representing\n",
        "        the number of nodes in the Linked List.\n",
        "\n",
        "        The time complexity is O(n) because every Node in the Linked List must\n",
        "        be visited in order to calculate the size of the Linked List.\n",
        "        \"\"\"\n",
        "        size = 0\n",
        "        if self.head is None:\n",
        "            return 0\n",
        "\n",
        "        current = self.head\n",
        "        while current is not None:  # While there are still Nodes left to count\n",
        "            size += 1\n",
        "            current = current.get_next()\n",
        "\n",
        "        return size\n",
        "\n",
        "    def search(self, data):\n",
        "        \"\"\"Traverses the Linked List and returns True if the data searched for\n",
        "        is present in one of the Nodes. Otherwise, it returns False.\n",
        "\n",
        "        The time complexity is O(n) because in the worst case, we have to visit\n",
        "        every Node in the list.\n",
        "        \"\"\"\n",
        "        if self.head is None:\n",
        "            return \"Linked List is empty. No Nodes to search.\"\n",
        "\n",
        "        current = self.head\n",
        "        while current is not None:\n",
        "            if current.get_data() == data:\n",
        "                return True\n",
        "            else:\n",
        "                current = current.get_next()\n",
        "\n",
        "        return False\n",
        "\n",
        "    def add_front(self, new_data):\n",
        "        \"\"\"Add a Node whose data is the new_data argument to the front of the\n",
        "        Linked List.\"\"\"\n",
        "        temp = DLLNode(new_data)\n",
        "        temp.set_next(self.head)\n",
        "\n",
        "        if self.head is not None:\n",
        "            self.head.set_previous(temp)\n",
        "\n",
        "        self.head = temp\n",
        "\n",
        "    def remove(self, data):\n",
        "        \"\"\"Removes the first occurence of a Node that contains the data argument\n",
        "        as its self.data attribute. Returns nothing.\n",
        "\n",
        "        The time complexity is O(n) because in the worst case, we have to visit\n",
        "        every Node before finding the one we want to remove.\n",
        "        \"\"\"\n",
        "        if self.head is None:\n",
        "            return \"Linked List is empty. No Nodes to remove.\"\n",
        "\n",
        "        current = self.head\n",
        "        found = False\n",
        "        while not found:\n",
        "            if current.get_data() == data:\n",
        "                found = True\n",
        "            else:\n",
        "                if current.get_next() is None:\n",
        "                    return \"A Node with that data value is not present.\"\n",
        "                else:\n",
        "                    current = current.get_next()\n",
        "\n",
        "        if current.previous is None:\n",
        "            self.head = current.get_next()\n",
        "        else:\n",
        "            current.previous.set_next(current.get_next())\n",
        "            current.next.set_previous(current.get_previous())\n"
      ],
      "execution_count": 0,
      "outputs": []
    },
    {
      "cell_type": "markdown",
      "metadata": {
        "id": "xrhALHZ35TF9",
        "colab_type": "text"
      },
      "source": [
        "# RECURSION"
      ]
    },
    {
      "cell_type": "markdown",
      "metadata": {
        "id": "beEV4sd-5boV",
        "colab_type": "text"
      },
      "source": [
        "Recursion is a method of solving problems that involves breaking a problem down into smaller and smaller subproblems until you get to a small enough problem that it can be solved trivially. Usually recursion involves a function calling itself. While it may not seem like much on the surface, recursion allows us to write elegant solutions to problems that may otherwise be very difficult to program."
      ]
    },
    {
      "cell_type": "markdown",
      "metadata": {
        "id": "P07K1Ewf6BeG",
        "colab_type": "text"
      },
      "source": [
        "Three rules of recursion :\n",
        "\n",
        "1) It should have a base condition : termination condition\n",
        "\n",
        "2) The function should change its state and move towards the base condition\n",
        "\n",
        "3) It should call itself repeatedly"
      ]
    },
    {
      "cell_type": "code",
      "metadata": {
        "id": "LD6X-fn2h4wj",
        "colab_type": "code",
        "outputId": "22193e9e-b56b-4cf7-ba76-27cf19ed4c32",
        "colab": {
          "base_uri": "https://localhost:8080/",
          "height": 277
        }
      },
      "source": [
        "# tower of hanoi\n",
        "\n",
        "def TOH(n,a,b,c):\n",
        "\n",
        "  if n > 0:\n",
        "    TOH(n-1,a,c,b)\n",
        "    print('the piece is moved from {} to {}'.format(a,c))\n",
        "    TOH(n-1,b,a,c)\n",
        "\n",
        "TOH(4,1,2,3)"
      ],
      "execution_count": 0,
      "outputs": [
        {
          "output_type": "stream",
          "text": [
            "the piece is moved from 1 to 2\n",
            "the piece is moved from 1 to 3\n",
            "the piece is moved from 2 to 3\n",
            "the piece is moved from 1 to 2\n",
            "the piece is moved from 3 to 1\n",
            "the piece is moved from 3 to 2\n",
            "the piece is moved from 1 to 2\n",
            "the piece is moved from 1 to 3\n",
            "the piece is moved from 2 to 3\n",
            "the piece is moved from 2 to 1\n",
            "the piece is moved from 3 to 1\n",
            "the piece is moved from 2 to 3\n",
            "the piece is moved from 1 to 2\n",
            "the piece is moved from 1 to 3\n",
            "the piece is moved from 2 to 3\n"
          ],
          "name": "stdout"
        }
      ]
    },
    {
      "cell_type": "code",
      "metadata": {
        "id": "P4LpNzZbgGdM",
        "colab_type": "code",
        "colab": {}
      },
      "source": [
        "# exploring a maze\n",
        "\n"
      ],
      "execution_count": 0,
      "outputs": []
    },
    {
      "cell_type": "markdown",
      "metadata": {
        "id": "iTbM1SIMkIcO",
        "colab_type": "text"
      },
      "source": [
        "# SEARCHING AND SORTING"
      ]
    },
    {
      "cell_type": "code",
      "metadata": {
        "id": "hdKYBVsQkQ-S",
        "colab_type": "code",
        "colab": {}
      },
      "source": [
        "# binary search\n",
        "\n",
        "def binarySearch(alist, item):\n",
        "\t    if len(alist) == 0:\n",
        "\t        return False\n",
        "\t    else:\n",
        "\t        midpoint = len(alist)//2\n",
        "\t        if alist[midpoint]==item:\n",
        "\t          return True\n",
        "\t        else:\n",
        "            if item < alist[midpoint]:\n",
        "\t            return binarySearch(alist[:midpoint],item)\n",
        "\t          else:\n",
        "\t            return binarySearch(alist[midpoint+1:],item)\n",
        "\t\n",
        "\ttestlist = [0, 1, 2, 8, 13, 17, 19, 32, 42]\n",
        "\tprint(binarySearch(testlist, 3))\n",
        "\tprint(binarySearch(testlist, 13))\n"
      ],
      "execution_count": 0,
      "outputs": []
    },
    {
      "cell_type": "code",
      "metadata": {
        "id": "f4EACXHt4ht9",
        "colab_type": "code",
        "outputId": "26c31b18-d231-4a6a-cd68-35bf164eeb3b",
        "colab": {
          "base_uri": "https://localhost:8080/",
          "height": 35
        }
      },
      "source": [
        "# bubble sort\n",
        "\n",
        "def bubbleSort(alist):\n",
        "    for passnum in range(len(alist)-1,0,-1):\n",
        "        for i in range(passnum):\n",
        "            if alist[i]>alist[i+1]:\n",
        "                temp = alist[i]\n",
        "                alist[i] = alist[i+1]\n",
        "                alist[i+1] = temp\n",
        "\n",
        "alist = [54,26,93,17,77,31,44,55,20]\n",
        "bubbleSort(alist)\n",
        "print(alist)"
      ],
      "execution_count": 0,
      "outputs": [
        {
          "output_type": "stream",
          "text": [
            "[17, 20, 26, 31, 44, 54, 55, 77, 93]\n"
          ],
          "name": "stdout"
        }
      ]
    },
    {
      "cell_type": "code",
      "metadata": {
        "id": "_w2ScGGn7iMb",
        "colab_type": "code",
        "outputId": "4606694e-66ea-42e2-c427-c3ebc1c250de",
        "colab": {
          "base_uri": "https://localhost:8080/",
          "height": 35
        }
      },
      "source": [
        "# selection sort\n",
        "\n",
        "def selection_sort(a):\n",
        "  final = []\n",
        "  i = 0\n",
        "  for i in range(len(a)):\n",
        "    final.append(max(a))\n",
        "    a.remove(max(a))\n",
        "  return final[:0:-1]\n",
        "\n",
        "ar = [54,26,93,17,77,31,44,55,20]\n",
        "result = selection_sort(ar)\n",
        "print(result)"
      ],
      "execution_count": 0,
      "outputs": [
        {
          "output_type": "stream",
          "text": [
            "[17, 20, 26, 31, 44, 54, 55, 77]\n"
          ],
          "name": "stdout"
        }
      ]
    },
    {
      "cell_type": "code",
      "metadata": {
        "id": "I59TB3uG7lQU",
        "colab_type": "code",
        "outputId": "23f3bcdd-f860-4126-c931-47e56bc02071",
        "colab": {
          "base_uri": "https://localhost:8080/",
          "height": 35
        }
      },
      "source": [
        "# insertion sort\n",
        "\n",
        "def insertion_sort(a):\n",
        "  final = []\n",
        "  i = 0\n",
        "  for i in range(len(a)):\n",
        "    final.append(min(a))\n",
        "    a.remove(min(a))\n",
        "  return final\n",
        "\n",
        "ar = [54,26,93,17,77,31,44,55,20]\n",
        "result = insertion_sort(ar)\n",
        "print(result)"
      ],
      "execution_count": 0,
      "outputs": [
        {
          "output_type": "stream",
          "text": [
            "[17, 20, 26, 31, 44, 54, 55, 77, 93]\n"
          ],
          "name": "stdout"
        }
      ]
    },
    {
      "cell_type": "code",
      "metadata": {
        "id": "gZXYILRc_3ph",
        "colab_type": "code",
        "outputId": "feddcdb9-3e7e-4842-e06e-4983d291f2bf",
        "colab": {
          "base_uri": "https://localhost:8080/",
          "height": 87
        }
      },
      "source": [
        "# shell sort\n",
        "\n",
        "def shellSort(alist):\n",
        "    sublistcount = len(alist)//2\n",
        "    while sublistcount > 0:\n",
        "\n",
        "      for startposition in range(sublistcount):\n",
        "        gapInsertionSort(alist,startposition,sublistcount)\n",
        "\n",
        "      print(\"After increments of size\",sublistcount,\n",
        "                                   \"The list is\",alist)\n",
        "\n",
        "      sublistcount = sublistcount // 2\n",
        "\n",
        "def gapInsertionSort(alist,start,gap):\n",
        "    for i in range(start+gap,len(alist),gap):\n",
        "\n",
        "        currentvalue = alist[i]\n",
        "        position = i\n",
        "\n",
        "        while position>=gap and alist[position-gap]>currentvalue:\n",
        "            alist[position]=alist[position-gap]\n",
        "            position = position-gap\n",
        "\n",
        "        alist[position]=currentvalue\n",
        "\n",
        "alist = [54,26,93,17,77,31,44,55,20]\n",
        "shellSort(alist)\n",
        "print(alist)\n"
      ],
      "execution_count": 0,
      "outputs": [
        {
          "output_type": "stream",
          "text": [
            "After increments of size 4 The list is [20, 26, 44, 17, 54, 31, 93, 55, 77]\n",
            "After increments of size 2 The list is [20, 17, 44, 26, 54, 31, 77, 55, 93]\n",
            "After increments of size 1 The list is [17, 20, 26, 31, 44, 54, 55, 77, 93]\n",
            "[17, 20, 26, 31, 44, 54, 55, 77, 93]\n"
          ],
          "name": "stdout"
        }
      ]
    },
    {
      "cell_type": "code",
      "metadata": {
        "id": "a1jG1wJK__jf",
        "colab_type": "code",
        "outputId": "3a30aedf-e3be-4f02-a571-8153853b24ce",
        "colab": {
          "base_uri": "https://localhost:8080/",
          "height": 624
        }
      },
      "source": [
        "# merge sort\n",
        "\n",
        "def mergeSort(alist):\n",
        "    print(\"Splitting \",alist)\n",
        "    if len(alist)>1:\n",
        "        mid = len(alist)//2\n",
        "        lefthalf = alist[:mid]\n",
        "        righthalf = alist[mid:]\n",
        "\n",
        "        mergeSort(lefthalf)\n",
        "        mergeSort(righthalf)\n",
        "\n",
        "        i=0\n",
        "        j=0\n",
        "        k=0\n",
        "        while i < len(lefthalf) and j < len(righthalf):\n",
        "            if lefthalf[i] <= righthalf[j]:\n",
        "                alist[k]=lefthalf[i]\n",
        "                i=i+1\n",
        "            else:\n",
        "                alist[k]=righthalf[j]\n",
        "                j=j+1\n",
        "            k=k+1\n",
        "\n",
        "        while i < len(lefthalf):\n",
        "            alist[k]=lefthalf[i]\n",
        "            i=i+1\n",
        "            k=k+1\n",
        "\n",
        "        while j < len(righthalf):\n",
        "            alist[k]=righthalf[j]\n",
        "            j=j+1\n",
        "            k=k+1\n",
        "    print(\"Merging \",alist)\n",
        "\n",
        "alist = [54,26,93,17,77,31,44,55,20]\n",
        "mergeSort(alist)\n",
        "print(alist)\n"
      ],
      "execution_count": 0,
      "outputs": [
        {
          "output_type": "stream",
          "text": [
            "Splitting  [54, 26, 93, 17, 77, 31, 44, 55, 20]\n",
            "Splitting  [54, 26, 93, 17]\n",
            "Splitting  [54, 26]\n",
            "Splitting  [54]\n",
            "Merging  [54]\n",
            "Splitting  [26]\n",
            "Merging  [26]\n",
            "Merging  [26, 54]\n",
            "Splitting  [93, 17]\n",
            "Splitting  [93]\n",
            "Merging  [93]\n",
            "Splitting  [17]\n",
            "Merging  [17]\n",
            "Merging  [17, 93]\n",
            "Merging  [17, 26, 54, 93]\n",
            "Splitting  [77, 31, 44, 55, 20]\n",
            "Splitting  [77, 31]\n",
            "Splitting  [77]\n",
            "Merging  [77]\n",
            "Splitting  [31]\n",
            "Merging  [31]\n",
            "Merging  [31, 77]\n",
            "Splitting  [44, 55, 20]\n",
            "Splitting  [44]\n",
            "Merging  [44]\n",
            "Splitting  [55, 20]\n",
            "Splitting  [55]\n",
            "Merging  [55]\n",
            "Splitting  [20]\n",
            "Merging  [20]\n",
            "Merging  [20, 55]\n",
            "Merging  [20, 44, 55]\n",
            "Merging  [20, 31, 44, 55, 77]\n",
            "Merging  [17, 20, 26, 31, 44, 54, 55, 77, 93]\n",
            "[17, 20, 26, 31, 44, 54, 55, 77, 93]\n"
          ],
          "name": "stdout"
        }
      ]
    },
    {
      "cell_type": "code",
      "metadata": {
        "id": "JxgJoJLFMM1q",
        "colab_type": "code",
        "outputId": "dd32a03c-721a-421c-b587-a6bb1fd55492",
        "colab": {
          "base_uri": "https://localhost:8080/",
          "height": 35
        }
      },
      "source": [
        "# quick sort\n",
        "\n",
        "def quickSort(alist):\n",
        "   quickSortHelper(alist,0,len(alist)-1)\n",
        "\n",
        "def quickSortHelper(alist,first,last):\n",
        "   if first<last:\n",
        "\n",
        "       splitpoint = partition(alist,first,last)\n",
        "\n",
        "       quickSortHelper(alist,first,splitpoint-1)\n",
        "       quickSortHelper(alist,splitpoint+1,last)\n",
        "\n",
        "\n",
        "def partition(alist,first,last):\n",
        "   pivotvalue = alist[first]\n",
        "\n",
        "   leftmark = first+1\n",
        "   rightmark = last\n",
        "\n",
        "   done = False\n",
        "   while not done:\n",
        "\n",
        "       while leftmark <= rightmark and alist[leftmark] <= pivotvalue:\n",
        "           leftmark = leftmark + 1\n",
        "\n",
        "       while alist[rightmark] >= pivotvalue and rightmark >= leftmark:\n",
        "           rightmark = rightmark -1\n",
        "\n",
        "       if rightmark < leftmark:\n",
        "           done = True\n",
        "       else:\n",
        "           temp = alist[leftmark]\n",
        "           alist[leftmark] = alist[rightmark]\n",
        "           alist[rightmark] = temp\n",
        "\n",
        "   temp = alist[first]\n",
        "   alist[first] = alist[rightmark]\n",
        "   alist[rightmark] = temp\n",
        "\n",
        "\n",
        "   return rightmark\n",
        "\n",
        "alist = [54,26,93,17,77,31,44,55,20]\n",
        "quickSort(alist)\n",
        "print(alist)\n"
      ],
      "execution_count": 0,
      "outputs": [
        {
          "output_type": "stream",
          "text": [
            "[17, 20, 26, 31, 44, 54, 55, 77, 93]\n"
          ],
          "name": "stdout"
        }
      ]
    },
    {
      "cell_type": "markdown",
      "metadata": {
        "id": "NBX0WH0qL-W-",
        "colab_type": "text"
      },
      "source": [
        "A sequential search is O(n) for ordered and unordered lists.\n",
        "\n",
        "A binary search of an ordered list is O(logn) in the worst case.\n",
        "\n",
        "Hash tables can provide constant time searching.\n",
        "\n",
        "A bubble sort, a selection sort, and an insertion sort are O(n2) algorithms.\n",
        "\n",
        "A shell sort improves on the insertion sort by sorting incremental sublists. It falls between O(n) and O(n2).\n",
        "\n",
        "A merge sort is O(nlogn), but requires additional space for the merging process.\n",
        "\n",
        "A quick sort is O(nlogn), but may degrade to O(n2) if the split points are not near the middle of the list. It does not require additional space."
      ]
    },
    {
      "cell_type": "markdown",
      "metadata": {
        "id": "cgOjCxQ5MmsY",
        "colab_type": "text"
      },
      "source": [
        "# TREE AND TREES ALGORITHMS"
      ]
    },
    {
      "cell_type": "code",
      "metadata": {
        "id": "wX1p3feQMqSM",
        "colab_type": "code",
        "outputId": "fce26e95-c6d2-4626-bef3-1a971d6ed5ce",
        "colab": {
          "base_uri": "https://localhost:8080/",
          "height": 87
        }
      },
      "source": [
        "# tree implementation\n",
        "\n",
        "def BinaryTree(r):\n",
        "    return [r, [], []]\n",
        "\n",
        "def insertLeft(root,newBranch):\n",
        "    t = root.pop(1)\n",
        "    if len(t) > 1:\n",
        "        root.insert(1,[newBranch,t,[]])\n",
        "    else:\n",
        "        root.insert(1,[newBranch, [], []])\n",
        "    return root\n",
        "\n",
        "def insertRight(root,newBranch):\n",
        "    t = root.pop(2)\n",
        "    if len(t) > 1:\n",
        "        root.insert(2,[newBranch,[],t])\n",
        "    else:\n",
        "        root.insert(2,[newBranch,[],[]])\n",
        "    return root\n",
        "\n",
        "def getRootVal(root):\n",
        "    return root[0]\n",
        "\n",
        "def setRootVal(root,newVal):\n",
        "    root[0] = newVal\n",
        "\n",
        "def getLeftChild(root):\n",
        "    return root[1]\n",
        "\n",
        "def getRightChild(root):\n",
        "    return root[2]\n",
        "\n",
        "r = BinaryTree(3)\n",
        "insertLeft(r,4)\n",
        "insertLeft(r,5)\n",
        "insertRight(r,6)\n",
        "insertRight(r,7)\n",
        "l = getLeftChild(r)\n",
        "print(l)\n",
        "\n",
        "setRootVal(l,9)\n",
        "print(r)\n",
        "insertLeft(l,11)\n",
        "print(r)\n",
        "print(getRightChild(getRightChild(r)))"
      ],
      "execution_count": 0,
      "outputs": [
        {
          "output_type": "stream",
          "text": [
            "[5, [4, [], []], []]\n",
            "[3, [9, [4, [], []], []], [7, [], [6, [], []]]]\n",
            "[3, [9, [11, [4, [], []], []], []], [7, [], [6, [], []]]]\n",
            "[6, [], []]\n"
          ],
          "name": "stdout"
        }
      ]
    },
    {
      "cell_type": "code",
      "metadata": {
        "id": "bLb5NOEDTt2_",
        "colab_type": "code",
        "outputId": "54dd374d-d521-46c3-94ef-7c3b4d285752",
        "colab": {
          "base_uri": "https://localhost:8080/",
          "height": 139
        }
      },
      "source": [
        "# tree implementation using classes\n",
        "\n",
        "class BinaryTree:\n",
        "    def __init__(self,rootObj):\n",
        "        self.key = rootObj\n",
        "        self.leftChild = None\n",
        "        self.rightChild = None\n",
        "\n",
        "    def insertLeft(self,newNode):\n",
        "        if self.leftChild == None:\n",
        "            self.leftChild = BinaryTree(newNode)\n",
        "        else:\n",
        "            t = BinaryTree(newNode)\n",
        "            t.leftChild = self.leftChild\n",
        "            self.leftChild = t\n",
        "\n",
        "    def insertRight(self,newNode):\n",
        "        if self.rightChild == None:\n",
        "            self.rightChild = BinaryTree(newNode)\n",
        "        else:\n",
        "            t = BinaryTree(newNode)\n",
        "            t.rightChild = self.rightChild\n",
        "            self.rightChild = t\n",
        "\n",
        "\n",
        "    def getRightChild(self):\n",
        "        return self.rightChild\n",
        "\n",
        "    def getLeftChild(self):\n",
        "        return self.leftChild\n",
        "\n",
        "    def setRootVal(self,obj):\n",
        "        self.key = obj\n",
        "\n",
        "    def getRootVal(self):\n",
        "        return self.key\n",
        "\n",
        "\n",
        "r = BinaryTree('a')\n",
        "print(r.getRootVal())\n",
        "print(r.getLeftChild())\n",
        "r.insertLeft('b')\n",
        "print(r.getLeftChild())\n",
        "print(r.getLeftChild().getRootVal())\n",
        "r.insertRight('c')\n",
        "print(r.getRightChild())\n",
        "print(r.getRightChild().getRootVal())\n",
        "r.getRightChild().setRootVal('hello')\n",
        "print(r.getRightChild().getRootVal())"
      ],
      "execution_count": 0,
      "outputs": [
        {
          "output_type": "stream",
          "text": [
            "a\n",
            "None\n",
            "<__main__.BinaryTree object at 0x7ff709b784e0>\n",
            "b\n",
            "<__main__.BinaryTree object at 0x7ff709b78550>\n",
            "c\n",
            "hello\n"
          ],
          "name": "stdout"
        }
      ]
    },
    {
      "cell_type": "code",
      "metadata": {
        "id": "EeE-2n_GaGIY",
        "colab_type": "code",
        "colab": {}
      },
      "source": [
        "# tree traversal\n",
        "\n",
        "# preorder\n",
        "def preorder(tree):\n",
        "    if tree:\n",
        "        print(tree.getRootVal())\n",
        "        preorder(tree.getLeftChild())\n",
        "        preorder(tree.getRightChild())\n",
        "\n",
        "# inorder\n",
        "def inorder(tree):\n",
        "  if tree:\n",
        "    inorder(tree.getLeftChild())\n",
        "    print(tree.getRootVal())\n",
        "    inorder(tree.getRightChild())\n",
        "\n",
        "# postorder\n",
        "def postorder(tree):\n",
        "  if tree:\n",
        "    postorder(tree.getLeftChild())\n",
        "    postorder(tree.getRightChild())\n",
        "    print(tree.getRootVal())"
      ],
      "execution_count": 0,
      "outputs": []
    },
    {
      "cell_type": "markdown",
      "metadata": {
        "id": "KDuiHhbObWJ4",
        "colab_type": "text"
      },
      "source": [
        "Priority queues with binary heaps\n",
        "\n",
        "BinaryHeap() creates a new, empty, binary heap.\n",
        "\n",
        "insert(k) adds a new item to the heap.\n",
        "\n",
        "findMin() returns the item with the minimum key value, leaving item in the heap.\n",
        "\n",
        "delMin() returns the item with the minimum key value, removing the item from the heap.\n",
        "\n",
        "isEmpty() returns true if the heap is empty, false otherwise.\n",
        "\n",
        "size() returns the number of items in the heap.\n",
        "\n",
        "buildHeap(list) builds a new heap from a list of keys."
      ]
    },
    {
      "cell_type": "code",
      "metadata": {
        "id": "8pqcOIsMbf5e",
        "colab_type": "code",
        "outputId": "f0f0ba47-e4d2-4a06-c2ae-ccbceff78603",
        "colab": {
          "base_uri": "https://localhost:8080/",
          "height": 104
        }
      },
      "source": [
        "# binary heap implementation\n",
        "\n",
        "class BinHeap:\n",
        "    def __init__(self):\n",
        "        self.heapList = [0]\n",
        "        self.currentSize = 0\n",
        "\n",
        "\n",
        "    def percUp(self,i):\n",
        "        while i // 2 > 0:\n",
        "          if self.heapList[i] < self.heapList[i // 2]:\n",
        "             tmp = self.heapList[i // 2]\n",
        "             self.heapList[i // 2] = self.heapList[i]\n",
        "             self.heapList[i] = tmp\n",
        "          i = i // 2\n",
        "\n",
        "    def insert(self,k):\n",
        "      self.heapList.append(k)\n",
        "      self.currentSize = self.currentSize + 1\n",
        "      self.percUp(self.currentSize)\n",
        "\n",
        "    def percDown(self,i):\n",
        "      while (i * 2) <= self.currentSize:\n",
        "          mc = self.minChild(i)\n",
        "          if self.heapList[i] > self.heapList[mc]:\n",
        "              tmp = self.heapList[i]\n",
        "              self.heapList[i] = self.heapList[mc]\n",
        "              self.heapList[mc] = tmp\n",
        "          i = mc\n",
        "\n",
        "    def minChild(self,i):\n",
        "      if i * 2 + 1 > self.currentSize:\n",
        "          return i * 2\n",
        "      else:\n",
        "          if self.heapList[i*2] < self.heapList[i*2+1]:\n",
        "              return i * 2\n",
        "          else:\n",
        "              return i * 2 + 1\n",
        "\n",
        "    def delMin(self):\n",
        "      retval = self.heapList[1]\n",
        "      self.heapList[1] = self.heapList[self.currentSize]\n",
        "      self.currentSize = self.currentSize - 1\n",
        "      self.heapList.pop()\n",
        "      self.percDown(1)\n",
        "      return retval\n",
        "\n",
        "    def buildHeap(self,alist):\n",
        "      i = len(alist) // 2\n",
        "      self.currentSize = len(alist)\n",
        "      self.heapList = [0] + alist[:]\n",
        "      while (i > 0):\n",
        "          self.percDown(i)\n",
        "          i = i - 1\n",
        "\n",
        "bh = BinHeap()\n",
        "bh.buildHeap([9,5,6,2,3])\n",
        "\n",
        "print(bh.delMin())\n",
        "print(bh.delMin())\n",
        "print(bh.delMin())\n",
        "print(bh.delMin())\n",
        "print(bh.delMin())\n"
      ],
      "execution_count": 0,
      "outputs": [
        {
          "output_type": "stream",
          "text": [
            "2\n",
            "3\n",
            "5\n",
            "6\n",
            "9\n"
          ],
          "name": "stdout"
        }
      ]
    },
    {
      "cell_type": "markdown",
      "metadata": {
        "id": "-Pjs1zR2dIUI",
        "colab_type": "text"
      },
      "source": [
        "Binary search tree\n",
        "\n",
        "Map() Create a new, empty map.\n",
        "\n",
        "put(key,val) Add a new key-value pair to the map. If the key is already in the map then replace the old value with the new value.\n",
        "\n",
        "get(key) Given a key, return the value stored in the map or None otherwise.\n",
        "\n",
        "del Delete the key-value pair from the map using a statement of the form del map[key].\n",
        "\n",
        "len() Return the number of key-value pairs stored in the map.\n",
        "\n",
        "in Return True for a statement of the form key in map, if the given key is in the map."
      ]
    },
    {
      "cell_type": "code",
      "metadata": {
        "id": "zrIe9ImVdP7T",
        "colab_type": "code",
        "outputId": "3f2df873-846b-4c28-c8ed-7d8901259430",
        "colab": {
          "base_uri": "https://localhost:8080/",
          "height": 52
        }
      },
      "source": [
        "# binary search tree implementation\n",
        "\n",
        "class TreeNode:\n",
        "    def __init__(self,key,val,left=None,right=None,parent=None):\n",
        "        self.key = key\n",
        "        self.payload = val\n",
        "        self.leftChild = left\n",
        "        self.rightChild = right\n",
        "        self.parent = parent\n",
        "\n",
        "    def hasLeftChild(self):\n",
        "        return self.leftChild\n",
        "\n",
        "    def hasRightChild(self):\n",
        "        return self.rightChild\n",
        "\n",
        "    def isLeftChild(self):\n",
        "        return self.parent and self.parent.leftChild == self\n",
        "\n",
        "    def isRightChild(self):\n",
        "        return self.parent and self.parent.rightChild == self\n",
        "\n",
        "    def isRoot(self):\n",
        "        return not self.parent\n",
        "\n",
        "    def isLeaf(self):\n",
        "        return not (self.rightChild or self.leftChild)\n",
        "\n",
        "    def hasAnyChildren(self):\n",
        "        return self.rightChild or self.leftChild\n",
        "\n",
        "    def hasBothChildren(self):\n",
        "        return self.rightChild and self.leftChild\n",
        "\n",
        "    def spliceOut(self):\n",
        "        if self.isLeaf():\n",
        "            if self.isLeftChild():\n",
        "                self.parent.leftChild = None\n",
        "            else:\n",
        "                self.parent.rightChild = None\n",
        "        elif self.hasAnyChildren():\n",
        "            if self.hasLeftChild():\n",
        "                if self.isLeftChild():\n",
        "                    self.parent.leftChild = self.leftChild\n",
        "                else:\n",
        "                    self.parent.rightChild = self.leftChild\n",
        "                self.leftChild.parent = self.parent\n",
        "            else:\n",
        "                if self.isLeftChild():\n",
        "                    self.parent.leftChild = self.rightChild\n",
        "                else:\n",
        "                    self.parent.rightChild = self.rightChild\n",
        "                self.rightChild.parent = self.parent\n",
        "\n",
        "    def findSuccessor(self):\n",
        "        succ = None\n",
        "        if self.hasRightChild():\n",
        "            succ = self.rightChild.findMin()\n",
        "        else:\n",
        "            if self.parent:\n",
        "                   if self.isLeftChild():\n",
        "                       succ = self.parent\n",
        "                   else:\n",
        "                       self.parent.rightChild = None\n",
        "                       succ = self.parent.findSuccessor()\n",
        "                       self.parent.rightChild = self\n",
        "        return succ\n",
        "\n",
        "    def findMin(self):\n",
        "        current = self\n",
        "        while current.hasLeftChild():\n",
        "            current = current.leftChild\n",
        "        return current\n",
        "\n",
        "    def replaceNodeData(self,key,value,lc,rc):\n",
        "        self.key = key\n",
        "        self.payload = value\n",
        "        self.leftChild = lc\n",
        "        self.rightChild = rc\n",
        "        if self.hasLeftChild():\n",
        "            self.leftChild.parent = self\n",
        "        if self.hasRightChild():\n",
        "            self.rightChild.parent = self\n",
        "\n",
        "\n",
        "class BinarySearchTree:\n",
        "\n",
        "    def __init__(self):\n",
        "        self.root = None\n",
        "        self.size = 0\n",
        "\n",
        "    def length(self):\n",
        "        return self.size\n",
        "\n",
        "    def __len__(self):\n",
        "        return self.size\n",
        "\n",
        "    def put(self,key,val):\n",
        "        if self.root:\n",
        "            self._put(key,val,self.root)\n",
        "        else:\n",
        "            self.root = TreeNode(key,val)\n",
        "        self.size = self.size + 1\n",
        "\n",
        "    def _put(self,key,val,currentNode):\n",
        "        if key < currentNode.key:\n",
        "            if currentNode.hasLeftChild():\n",
        "                   self._put(key,val,currentNode.leftChild)\n",
        "            else:\n",
        "                   currentNode.leftChild = TreeNode(key,val,parent=currentNode)\n",
        "        else:\n",
        "            if currentNode.hasRightChild():\n",
        "                   self._put(key,val,currentNode.rightChild)\n",
        "            else:\n",
        "                   currentNode.rightChild = TreeNode(key,val,parent=currentNode)\n",
        "\n",
        "    def __setitem__(self,k,v):\n",
        "       self.put(k,v)\n",
        "\n",
        "    def get(self,key):\n",
        "       if self.root:\n",
        "           res = self._get(key,self.root)\n",
        "           if res:\n",
        "                  return res.payload\n",
        "           else:\n",
        "                  return None\n",
        "       else:\n",
        "           return None\n",
        "\n",
        "    def _get(self,key,currentNode):\n",
        "       if not currentNode:\n",
        "           return None\n",
        "       elif currentNode.key == key:\n",
        "           return currentNode\n",
        "       elif key < currentNode.key:\n",
        "           return self._get(key,currentNode.leftChild)\n",
        "       else:\n",
        "           return self._get(key,currentNode.rightChild)\n",
        "\n",
        "    def __getitem__(self,key):\n",
        "       return self.get(key)\n",
        "\n",
        "    def __contains__(self,key):\n",
        "       if self._get(key,self.root):\n",
        "           return True\n",
        "       else:\n",
        "           return False\n",
        "\n",
        "    def delete(self,key):\n",
        "      if self.size > 1:\n",
        "         nodeToRemove = self._get(key,self.root)\n",
        "         if nodeToRemove:\n",
        "             self.remove(nodeToRemove)\n",
        "             self.size = self.size-1\n",
        "         else:\n",
        "             raise KeyError('Error, key not in tree')\n",
        "      elif self.size == 1 and self.root.key == key:\n",
        "         self.root = None\n",
        "         self.size = self.size - 1\n",
        "      else:\n",
        "         raise KeyError('Error, key not in tree')\n",
        "\n",
        "    def __delitem__(self,key):\n",
        "       self.delete(key)\n",
        "\n",
        "    def remove(self,currentNode):\n",
        "         if currentNode.isLeaf(): #leaf\n",
        "           if currentNode == currentNode.parent.leftChild:\n",
        "               currentNode.parent.leftChild = None\n",
        "           else:\n",
        "               currentNode.parent.rightChild = None\n",
        "         elif currentNode.hasBothChildren(): #interior\n",
        "           succ = currentNode.findSuccessor()\n",
        "           succ.spliceOut()\n",
        "           currentNode.key = succ.key\n",
        "           currentNode.payload = succ.payload\n",
        "\n",
        "         else: # this node has one child\n",
        "           if currentNode.hasLeftChild():\n",
        "             if currentNode.isLeftChild():\n",
        "                 currentNode.leftChild.parent = currentNode.parent\n",
        "                 currentNode.parent.leftChild = currentNode.leftChild\n",
        "             elif currentNode.isRightChild():\n",
        "                 currentNode.leftChild.parent = currentNode.parent\n",
        "                 currentNode.parent.rightChild = currentNode.leftChild\n",
        "             else:\n",
        "                 currentNode.replaceNodeData(currentNode.leftChild.key,\n",
        "                                    currentNode.leftChild.payload,\n",
        "                                    currentNode.leftChild.leftChild,\n",
        "                                    currentNode.leftChild.rightChild)\n",
        "           else:\n",
        "             if currentNode.isLeftChild():\n",
        "                 currentNode.rightChild.parent = currentNode.parent\n",
        "                 currentNode.parent.leftChild = currentNode.rightChild\n",
        "             elif currentNode.isRightChild():\n",
        "                 currentNode.rightChild.parent = currentNode.parent\n",
        "                 currentNode.parent.rightChild = currentNode.rightChild\n",
        "             else:\n",
        "                 currentNode.replaceNodeData(currentNode.rightChild.key,\n",
        "                                    currentNode.rightChild.payload,\n",
        "                                    currentNode.rightChild.leftChild,\n",
        "                                    currentNode.rightChild.rightChild)\n",
        "\n",
        "\n",
        "\n",
        "\n",
        "mytree = BinarySearchTree()\n",
        "mytree[3]=\"red\"\n",
        "mytree[4]=\"blue\"\n",
        "mytree[6]=\"yellow\"\n",
        "mytree[2]=\"at\"\n",
        "\n",
        "print(mytree[6])\n",
        "print(mytree[2])\n"
      ],
      "execution_count": 0,
      "outputs": [
        {
          "output_type": "stream",
          "text": [
            "yellow\n",
            "at\n"
          ],
          "name": "stdout"
        }
      ]
    },
    {
      "cell_type": "markdown",
      "metadata": {
        "id": "Yf_E-W2LgX3l",
        "colab_type": "text"
      },
      "source": [
        "# GRAPHS AND GRAPH ALGORITHMS"
      ]
    },
    {
      "cell_type": "markdown",
      "metadata": {
        "id": "-a0utXk4p5Y7",
        "colab_type": "text"
      },
      "source": [
        "Graph() creates a new, empty graph.\n",
        "\n",
        "addVertex(vert) adds an instance of Vertex to the graph.\n",
        "\n",
        "addEdge(fromVert, toVert) Adds a new, directed edge to the graph that connects two vertices.\n",
        "\n",
        "addEdge(fromVert, toVert, weight) Adds a new, weighted, directed edge to the graph that connects two vertices.\n",
        "\n",
        "getVertex(vertKey) finds the vertex in the graph named vertKey.\n",
        "\n",
        "getVertices() returns the list of all vertices in the graph.\n",
        "\n",
        "in returns True for a statement of the form vertex in graph, if the given vertex is in the graph, False otherwise."
      ]
    },
    {
      "cell_type": "markdown",
      "metadata": {
        "id": "m6Zwu1zOqTVJ",
        "colab_type": "text"
      },
      "source": [
        "Representation of a graph is by using:\n",
        "\n",
        "Adjacency Matrix\n",
        "Adjacency List"
      ]
    },
    {
      "cell_type": "code",
      "metadata": {
        "id": "2fQP7gMYp7Ru",
        "colab_type": "code",
        "outputId": "4a69482c-310a-4350-f365-fdd88780eaf4",
        "colab": {
          "base_uri": "https://localhost:8080/",
          "height": 173
        }
      },
      "source": [
        "# graph implementation\n",
        "\n",
        "class Vertex:\n",
        "    def __init__(self,key):\n",
        "        self.id = key\n",
        "        self.connectedTo = {}\n",
        "\n",
        "    def addNeighbor(self,nbr,weight=0):\n",
        "        self.connectedTo[nbr] = weight\n",
        "\n",
        "    def __str__(self):\n",
        "        return str(self.id) + ' connectedTo: ' + str([x.id for x in self.connectedTo])\n",
        "\n",
        "    def getConnections(self):\n",
        "        return self.connectedTo.keys()\n",
        "\n",
        "    def getId(self):\n",
        "        return self.id\n",
        "\n",
        "    def getWeight(self,nbr):\n",
        "        return self.connectedTo[nbr]\n",
        "\n",
        "\n",
        "class Graph:\n",
        "    def __init__(self):\n",
        "        self.vertList = {}\n",
        "        self.numVertices = 0\n",
        "\n",
        "    def addVertex(self,key):\n",
        "        self.numVertices = self.numVertices + 1\n",
        "        newVertex = Vertex(key)\n",
        "        self.vertList[key] = newVertex\n",
        "        return newVertex\n",
        "\n",
        "    def getVertex(self,n):\n",
        "        if n in self.vertList:\n",
        "            return self.vertList[n]\n",
        "        else:\n",
        "            return None\n",
        "\n",
        "    def __contains__(self,n):\n",
        "        return n in self.vertList\n",
        "\n",
        "    def addEdge(self,f,t,weight=0):\n",
        "        if f not in self.vertList:\n",
        "            nv = self.addVertex(f)\n",
        "        if t not in self.vertList:\n",
        "            nv = self.addVertex(t)\n",
        "        self.vertList[f].addNeighbor(self.vertList[t], weight)\n",
        "\n",
        "    def getVertices(self):\n",
        "        return self.vertList.keys()\n",
        "\n",
        "    def __iter__(self):\n",
        "        return iter(self.vertList.values())\n",
        "\n",
        "\n",
        "g = Graph()\n",
        "for i in range(6):\n",
        "  g.addVertex(i)\n",
        "g.vertList\n",
        "g.addEdge(0,1,5)\n",
        "g.addEdge(0,5,2)\n",
        "g.addEdge(1,2,4)\n",
        "g.addEdge(2,3,9)\n",
        "g.addEdge(3,4,7)\n",
        "g.addEdge(3,5,3)\n",
        "g.addEdge(4,0,1)\n",
        "g.addEdge(5,4,8)\n",
        "g.addEdge(5,2,1)\n",
        "for v in g:\n",
        "    for w in v.getConnections():\n",
        "        print(\"( %s , %s )\" % (v.getId(), w.getId()))"
      ],
      "execution_count": 0,
      "outputs": [
        {
          "output_type": "stream",
          "text": [
            "( 0 , 1 )\n",
            "( 0 , 5 )\n",
            "( 1 , 2 )\n",
            "( 2 , 3 )\n",
            "( 3 , 4 )\n",
            "( 3 , 5 )\n",
            "( 4 , 0 )\n",
            "( 5 , 4 )\n",
            "( 5 , 2 )\n"
          ],
          "name": "stdout"
        }
      ]
    },
    {
      "cell_type": "markdown",
      "metadata": {
        "id": "OiKey1ufy64U",
        "colab_type": "text"
      },
      "source": [
        "Breadth first search for finding the unweighted shortest path.\n",
        "\n",
        "Dijkstra’s algorithm for weighted shortest path.\n",
        "\n",
        "Depth first search for graph exploration.\n",
        "\n",
        "Strongly connected components for simplifying a graph.\n",
        "\n",
        "Topological sort for ordering tasks.\n",
        "\n",
        "Minimum weight spanning trees for broadcasting messages."
      ]
    }
  ]
}